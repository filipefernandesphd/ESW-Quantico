{
 "cells": [
  {
   "cell_type": "code",
   "execution_count": 144,
   "id": "65e05658",
   "metadata": {},
   "outputs": [],
   "source": [
    "import numpy as np\n",
    "\n",
    "class Quantico:\n",
    "    ket_0 = np.array([[1], [0]])\n",
    "    ket_1 = np.array([[0], [1]])\n",
    "    porta_pauli_I = np.eye(2)\n",
    "    porta_pauli_X = np.array([[0,1],[1,0]])\n",
    "    porta_pauli_Y = np.array([[0, -1j],[1j, 0]])\n",
    "    porta_pauli_Z = np.array([[1,0],[0,-1]])\n",
    "    H = (1/np.sqrt(2) * np.array([[1,1], [1,-1]]))\n",
    "    \n",
    "    @staticmethod\n",
    "    def tconj(a):\n",
    "        return a.conj().T\n",
    "    \n",
    "    @staticmethod\n",
    "    def tensor(a, b):\n",
    "        return np.kron(a, b)\n",
    "    \n",
    "    @staticmethod\n",
    "    def times(a, b):\n",
    "        return a @ b\n",
    "    \n",
    "    @staticmethod\n",
    "    def inpro(a, b):\n",
    "        return np.dot(a, b)\n",
    "    \n",
    "    @staticmethod\n",
    "    def outpro(a, b):\n",
    "        return np.outer(a, b)\n",
    "    \n",
    "    \n",
    "    @staticmethod\n",
    "    def resolucao():\n",
    "        op1 = Quantico.times(Quantico.porta_pauli_X, Quantico.ket_1)\n",
    "        op2 = Quantico.times(Quantico.H, op1)\n",
    "        op3 = Quantico.inpro(Quantico.tconj(Quantico.ket_1), Quantico.ket_1)\n",
    "        op4 = Quantico.tensor(op3, op2)\n",
    "        \n",
    "        return(op4)\n",
    "        \n",
    "    "
   ]
  },
  {
   "cell_type": "code",
   "execution_count": 145,
   "id": "6b65f8d5",
   "metadata": {},
   "outputs": [
    {
     "name": "stdout",
     "output_type": "stream",
     "text": [
      " [[0.70710678]\n",
      " [0.70710678]]\n"
     ]
    }
   ],
   "source": [
    "print(f\" {Quantico.resolucao()}\"  )"
   ]
  }
 ],
 "metadata": {
  "kernelspec": {
   "display_name": "Python 3 (ipykernel)",
   "language": "python",
   "name": "python3"
  },
  "language_info": {
   "codemirror_mode": {
    "name": "ipython",
    "version": 3
   },
   "file_extension": ".py",
   "mimetype": "text/x-python",
   "name": "python",
   "nbconvert_exporter": "python",
   "pygments_lexer": "ipython3",
   "version": "3.12.5"
  }
 },
 "nbformat": 4,
 "nbformat_minor": 5
}
