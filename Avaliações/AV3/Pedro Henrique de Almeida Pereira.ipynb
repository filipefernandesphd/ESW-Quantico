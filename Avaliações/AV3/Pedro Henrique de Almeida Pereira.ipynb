{
 "cells": [
  {
   "cell_type": "markdown",
   "metadata": {},
   "source": [
    "# AV3 Computação Quantica\n",
    "#### Nome: Pedro Henrique de Almeida Pereira"
   ]
  },
  {
   "cell_type": "markdown",
   "metadata": {},
   "source": [
    "#### Exercicio 1"
   ]
  },
  {
   "cell_type": "code",
   "execution_count": 1,
   "metadata": {},
   "outputs": [],
   "source": [
    "import numpy as np\n",
    "\n",
    "class qCalc:\n",
    "    ket_0 = np.array( [[1],[0]])\n",
    "    ket_1 = np.array( [[0],[1]])\n",
    "    I = np.array( [[1,0],[0,1]])\n",
    "    X = np.array( [[0,1],[1,0]])\n",
    "    Y = np.array( [[0,0-1j],[1j,0]])\n",
    "    Z = np.array( [[1,0],[0,-1]])\n",
    "    H = 1/np.sqrt(2) * np.array( [ [1,1] , [1,-1]])\n",
    "\n",
    "    #Retorna o conjugado de a\n",
    "    @staticmethod\n",
    "    def teconj(a):\n",
    "        return a.conj()\n",
    "    \n",
    "    #Retorna o produto tensorial de a e b\n",
    "    @staticmethod\n",
    "    def tensor(a,b):\n",
    "        return np.kron(a,b)\n",
    "    \n",
    "    #Multiplica as matrizes a e b\n",
    "    @staticmethod\n",
    "    def times(a,b):\n",
    "        return np.dot(a,b)\n",
    "    \n",
    "    #Retorna o produto interno\n",
    "    @staticmethod\n",
    "    def inpro(a,b):\n",
    "        return np.dot(a.conj().T,b)\n",
    "    \n",
    "    #Retorna o produto externo\n",
    "    @staticmethod\n",
    "    def outpro(a,b):\n",
    "        return np.outer(a,b)\n"
   ]
  },
  {
   "cell_type": "markdown",
   "metadata": {},
   "source": [
    "#### Exercicio 2"
   ]
  },
  {
   "cell_type": "code",
   "execution_count": 2,
   "metadata": {},
   "outputs": [],
   "source": [
    "def resolucao():\n",
    "    #X∣1⟩\n",
    "    op1 = qCalc.times(qCalc.X,qCalc.ket_1)\n",
    "\n",
    "    #H⋅X∣1⟩\n",
    "    op2 = qCalc.times(qCalc.H,op1)\n",
    "\n",
    "    #⟨1∣1⟩\n",
    "    interProd = qCalc.inpro(qCalc.ket_1,qCalc.ket_1)\n",
    "\n",
    "    #⟨1∣1⟩⊗(H⋅X∣1⟩)\n",
    "    return qCalc.tensor(interProd,op2)"
   ]
  },
  {
   "cell_type": "code",
   "execution_count": 3,
   "metadata": {},
   "outputs": [
    {
     "data": {
      "text/plain": [
       "array([[0.70710678],\n",
       "       [0.70710678]])"
      ]
     },
     "execution_count": 3,
     "metadata": {},
     "output_type": "execute_result"
    }
   ],
   "source": [
    "resolucao()"
   ]
  },
  {
   "cell_type": "code",
   "execution_count": null,
   "metadata": {},
   "outputs": [],
   "source": []
  }
 ],
 "metadata": {
  "kernelspec": {
   "display_name": "Python 3 (ipykernel)",
   "language": "python",
   "name": "python3"
  },
  "language_info": {
   "codemirror_mode": {
    "name": "ipython",
    "version": 3
   },
   "file_extension": ".py",
   "mimetype": "text/x-python",
   "name": "python",
   "nbconvert_exporter": "python",
   "pygments_lexer": "ipython3",
   "version": "3.12.4"
  }
 },
 "nbformat": 4,
 "nbformat_minor": 2
}
