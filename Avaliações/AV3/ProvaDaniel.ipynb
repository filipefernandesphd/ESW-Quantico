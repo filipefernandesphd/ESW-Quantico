{
 "cells": [
  {
   "cell_type": "code",
   "execution_count": 224,
   "id": "aaaaa14c-3d87-44d4-9f48-bd76493f9ee9",
   "metadata": {
    "tags": []
   },
   "outputs": [],
   "source": [
    "import math\n",
    "import numpy as np\n",
    "\n",
    "class Qnt:\n",
    "    kZero = np.array([[1], [0]])\n",
    "    kUm = np.array([[0], [1]])\n",
    "    I = np.eye(2)\n",
    "    X = np.array([[0, 1], [1, 0]])\n",
    "    Y = np.array([[0, -1j], [1j, 0]])\n",
    "    Z = np.array([[1, 0], [0, -1]])\n",
    "    H = (1 / np.sqrt(2)) * np.array([[1, 1], [1, -1]])\n",
    "    \n",
    "    @staticmethod\n",
    "    def tconj(a):\n",
    "        return a.T.conj();\n",
    "        \n",
    "    @staticmethod\n",
    "    def tensor(a, b):\n",
    "        return np.kron(a, b);\n",
    "        \n",
    "    @staticmethod\n",
    "    def times(a, b):\n",
    "        return a @ b\n",
    "        \n",
    "    @staticmethod\n",
    "    def inpro(a, b):\n",
    "        return np.dot(a.conj().T, b)\n",
    "        \n",
    "    @staticmethod\n",
    "    def outpro(a, b):\n",
    "        return np.outer(a, b)\n",
    "        \n",
    "    "
   ]
  },
  {
   "cell_type": "code",
   "execution_count": 225,
   "id": "ffbb64df-9ad4-4e3a-b597-f4b1a669b99c",
   "metadata": {
    "tags": []
   },
   "outputs": [
    {
     "name": "stdout",
     "output_type": "stream",
     "text": [
      "[[0.70710678]\n",
      " [0.70710678]]\n"
     ]
    }
   ],
   "source": [
    "def resolucao():\n",
    "    res1 = Qnt.inpro(Qnt.kUm, Qnt.kUm)\n",
    "    resX1 = Qnt.inpro(Qnt.X, Qnt.kUm)\n",
    "    resHX1 = Qnt.times(Qnt.H, resX1)\n",
    "    resF = Qnt.tensor(res1, resHX1)\n",
    "    print(resF);\n",
    "    \n",
    "resolucao()"
   ]
  },
  {
   "cell_type": "code",
   "execution_count": null,
   "id": "6d621129-a04f-4825-b012-b290e4d1019e",
   "metadata": {},
   "outputs": [],
   "source": []
  }
 ],
 "metadata": {
  "kernelspec": {
   "display_name": "Python 3 (ipykernel)",
   "language": "python",
   "name": "python3"
  },
  "language_info": {
   "codemirror_mode": {
    "name": "ipython",
    "version": 3
   },
   "file_extension": ".py",
   "mimetype": "text/x-python",
   "name": "python",
   "nbconvert_exporter": "python",
   "pygments_lexer": "ipython3",
   "version": "3.11.5"
  }
 },
 "nbformat": 4,
 "nbformat_minor": 5
}
