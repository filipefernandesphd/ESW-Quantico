{
 "cells": [
  {
   "cell_type": "code",
   "execution_count": 1,
   "id": "c0e8f08a",
   "metadata": {},
   "outputs": [],
   "source": [
    "import numpy as np"
   ]
  },
  {
   "cell_type": "code",
   "execution_count": 91,
   "id": "06cc10f0",
   "metadata": {},
   "outputs": [],
   "source": [
    "class quantum:\n",
    "    ket_0 =  np.array([1,0])\n",
    "    ket_1 =  np.array([0,1])\n",
    "    h = (1 / np.sqrt(2))* np.array([[1,1],[1,-1]])\n",
    "    x = np.array([[0,1],[1,0]])\n",
    "    y= np.array([[0,-1j],[1j,0]])\n",
    "    z = np.array([[1,0],[0,-1]])\n",
    "    i = np.eye(2)\n",
    "    @staticmethod\n",
    "    def tconj(a):\n",
    "        matriz = np.array(a)\n",
    "        matriz_transposta = np.transpose(matriz)\n",
    "        matriz_conj = matriz_transposta.conjugate()\n",
    "        return matriz_conj\n",
    "    @staticmethod\n",
    "    def tensor(a,b):\n",
    "        m1=np.array(a)\n",
    "        m2=np.array(b)\n",
    "        produto_tensorial = np.kron(m1,m2)\n",
    "        return produto_tensorial\n",
    "    @staticmethod\n",
    "    def times(a,b):\n",
    "        m1 = np.array(a)\n",
    "        m2 = np.array(b)\n",
    "        matriz_multi = m1 @ m2\n",
    "        return matriz_multi\n",
    "    @staticmethod\n",
    "    def inpro(a,b):\n",
    "        m2= np.array(b)\n",
    "        produto_interno = np.dot(quantum.tconj(a),m2)\n",
    "        return produto_interno\n",
    "    @staticmethod\n",
    "    def outpro(a,b):\n",
    "        m1 = np.array(a)\n",
    "        m2 = np.array(b)\n",
    "        produto_externo = np.outer(m1,m2)\n",
    "        return produto_externo\n",
    "    "
   ]
  },
  {
   "cell_type": "code",
   "execution_count": 92,
   "id": "fed23a6b",
   "metadata": {},
   "outputs": [],
   "source": [
    "def resolucao():\n",
    "        pauli_x_1 = quantum.times(quantum.x,quantum.ket_1)\n",
    "        print(f\"pauli_x_1 {pauli_x_1}\")\n",
    "        hadamard_x_1 = quantum.times(quantum.h,pauli_x_1)\n",
    "        print(f\"hadamard_x_1 {hadamard_x_1}\")\n",
    "        prod_interno_1_1 = quantum.inpro(quantum.ket_1,quantum.ket_1)\n",
    "        print(f\"prod_interno_1_1 {prod_interno_1_1}\")\n",
    "        resultado = quantum.tensor(prod_interno_1_1,hadamard_x_1)\n",
    "        print(f\"resultado {resultado}\")\n",
    "        return resultado"
   ]
  },
  {
   "cell_type": "code",
   "execution_count": 93,
   "id": "489bc1c7",
   "metadata": {},
   "outputs": [
    {
     "name": "stdout",
     "output_type": "stream",
     "text": [
      "pauli_x_1 [1 0]\n",
      "hadamard_x_1 [0.70710678 0.70710678]\n",
      "prod_interno_1_1 1\n",
      "resultado [0.70710678 0.70710678]\n"
     ]
    },
    {
     "data": {
      "text/plain": [
       "array([0.70710678, 0.70710678])"
      ]
     },
     "execution_count": 93,
     "metadata": {},
     "output_type": "execute_result"
    }
   ],
   "source": [
    "resolucao()"
   ]
  },
  {
   "cell_type": "code",
   "execution_count": 32,
   "id": "48d82797",
   "metadata": {},
   "outputs": [
    {
     "data": {
      "text/plain": [
       "array([0.70710678, 0.70710678])"
      ]
     },
     "execution_count": 32,
     "metadata": {},
     "output_type": "execute_result"
    }
   ],
   "source": [
    "quantum.inpro(quantum.ket_0,quantum.h)"
   ]
  },
  {
   "cell_type": "code",
   "execution_count": 21,
   "id": "5ecdedff",
   "metadata": {},
   "outputs": [
    {
     "data": {
      "text/plain": [
       "array([[3, 2, 1],\n",
       "       [6, 4, 2],\n",
       "       [9, 6, 3]])"
      ]
     },
     "execution_count": 21,
     "metadata": {},
     "output_type": "execute_result"
    }
   ],
   "source": [
    "quantum.times([[1],[2],[3]],[[3,2,1]])"
   ]
  },
  {
   "cell_type": "code",
   "execution_count": 10,
   "id": "d08a6dd8",
   "metadata": {},
   "outputs": [
    {
     "data": {
      "text/plain": [
       "array([1, 2, 3, 2, 4, 6, 3, 6, 9])"
      ]
     },
     "execution_count": 10,
     "metadata": {},
     "output_type": "execute_result"
    }
   ],
   "source": [
    "quantum.tensor([1,2,3],[1,2,3])"
   ]
  },
  {
   "cell_type": "code",
   "execution_count": 28,
   "id": "ad1d2f5f",
   "metadata": {},
   "outputs": [
    {
     "data": {
      "text/plain": [
       "array([[-0.+1.j,  0.-3.j],\n",
       "       [ 2.-0.j, -0.+2.j],\n",
       "       [ 3.-0.j,  1.-0.j]])"
      ]
     },
     "execution_count": 28,
     "metadata": {},
     "output_type": "execute_result"
    }
   ],
   "source": [
    "quantum.tconj([[-1j,2,3],[3j,-2j,1]])"
   ]
  }
 ],
 "metadata": {
  "kernelspec": {
   "display_name": "Python 3 (ipykernel)",
   "language": "python",
   "name": "python3"
  },
  "language_info": {
   "codemirror_mode": {
    "name": "ipython",
    "version": 3
   },
   "file_extension": ".py",
   "mimetype": "text/x-python",
   "name": "python",
   "nbconvert_exporter": "python",
   "pygments_lexer": "ipython3",
   "version": "3.11.5"
  }
 },
 "nbformat": 4,
 "nbformat_minor": 5
}
