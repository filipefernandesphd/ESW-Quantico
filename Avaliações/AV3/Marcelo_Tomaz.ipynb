{
 "cells": [
  {
   "cell_type": "code",
   "execution_count": 33,
   "metadata": {},
   "outputs": [],
   "source": [
    "import numpy as np \n",
    "\n",
    "class Prova:\n",
    "    ket_0=np.array([1,0])\n",
    "    ket_1=np.array([0,1])\n",
    "    H = (1 / np.sqrt(2)) * np.array([[1, 1],\n",
    "                                 [1, -1]])\n",
    "    I=np.array([[1,0],\n",
    "            [0,1]])\n",
    "    X=np.array([[0,1],\n",
    "            [1,0]])\n",
    "    Y=np.array([[0, 0 -1j],\n",
    "            [0 +1j, 0]])\n",
    "    Z=np.array([[1,0],\n",
    "            [0,-1]])\n",
    "\n",
    "    @staticmethod\n",
    "    def tconj(a):\n",
    "        return a.T.conj()\n",
    "    @staticmethod\n",
    "    def tensor(a,b):\n",
    "        return np.kron(a,b)\n",
    "    @staticmethod\n",
    "    def times(a,b):\n",
    "        return a@b\n",
    "    @staticmethod\n",
    "    def inpro(a,b):\n",
    "        return np.dot(a,b)\n",
    "    @staticmethod\n",
    "    def outpro(a,b):\n",
    "        return np.outer(a,b)"
   ]
  },
  {
   "cell_type": "code",
   "execution_count": 71,
   "metadata": {},
   "outputs": [
    {
     "name": "stdout",
     "output_type": "stream",
     "text": [
      "[1 0]\n",
      "[[1 0 0 0]\n",
      " [0 0 1 0]]\n",
      "0\n",
      "0\n",
      "[[0 1]\n",
      " [0 0]]\n"
     ]
    }
   ],
   "source": [
    "print(Prova.tconj(Prova.ket_0))\n",
    "print(Prova.tensor(Prova.I, Prova.ket_0))\n",
    "print(Prova.times(Prova.ket_0,Prova.ket_1))\n",
    "print(Prova.inpro(Prova.ket_1,Prova.ket_0))\n",
    "print(Prova.outpro(Prova.ket_0,Prova.ket_1))"
   ]
  },
  {
   "cell_type": "markdown",
   "metadata": {},
   "source": [
    "|ψ⟩ = (<1|1>) ⊗(H.X|1⟩)"
   ]
  },
  {
   "cell_type": "code",
   "execution_count": 72,
   "metadata": {},
   "outputs": [
    {
     "name": "stdout",
     "output_type": "stream",
     "text": [
      "[[0.70710678]\n",
      " [0.70710678]]\n"
     ]
    }
   ],
   "source": [
    " \n",
    "def resolucao():\n",
    "    resultado_X = Prova.inpro(Prova.X, Prova.ket_1)\n",
    "\n",
    "    resultado_H = Prova.inpro(Prova.H, resultado_X)\n",
    "\n",
    "    ket2=Prova.inpro(Prova.ket_1, Prova.tconj( Prova.ket_1))\n",
    "\n",
    "    tensor = Prova.tensor(ket2, resultado_H)\n",
    "    \n",
    "    return tensor.reshape(-1, 1)\n",
    "\n",
    "print(resolucao())\n"
   ]
  }
 ],
 "metadata": {
  "kernelspec": {
   "display_name": "qiskit",
   "language": "python",
   "name": "python3"
  },
  "language_info": {
   "codemirror_mode": {
    "name": "ipython",
    "version": 3
   },
   "file_extension": ".py",
   "mimetype": "text/x-python",
   "name": "python",
   "nbconvert_exporter": "python",
   "pygments_lexer": "ipython3",
   "version": "3.12.5"
  }
 },
 "nbformat": 4,
 "nbformat_minor": 2
}
