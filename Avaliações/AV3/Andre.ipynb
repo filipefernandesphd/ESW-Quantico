{
 "cells": [
  {
   "cell_type": "markdown",
   "id": "177944cc-4718-4220-823c-e3c34cd99642",
   "metadata": {},
   "source": [
    "Questão 1: Python class"
   ]
  },
  {
   "cell_type": "code",
   "execution_count": 13,
   "id": "fac5f511-4ecd-4663-884c-7c2b27374198",
   "metadata": {},
   "outputs": [],
   "source": [
    "import numpy as np\n",
    "\n",
    "class Quantum:\n",
    "    ket_0 = np.array([1,0])\n",
    "    ket_1 = np.array([0, 1])\n",
    "    I = np.array([ [1,0], [0,1] ])\n",
    "    X = np.array([ [0, 1], [1,0] ])\n",
    "    Y = np.array([ [0,-1j], [1j,0] ])\n",
    "    Z = np.array([ [1,0], [0, -1] ])\n",
    "    H = (1 / np.sqrt(2)) * np.array([[1, 1],[1, -1]])\n",
    "\n",
    "    @staticmethod\n",
    "    def tconj(a):\n",
    "        return np.conjugate(a.T)\n",
    "\n",
    "    @staticmethod\n",
    "    def tensor(a,b):\n",
    "        return np.kron(a, b)\n",
    "\n",
    "    @staticmethod\n",
    "    def times(a,b):\n",
    "        return np.dot(a, b)\n",
    "    \n",
    "    @staticmethod\n",
    "    def inpro(a,b):\n",
    "        return np.vdot(a, b)\n",
    "\n",
    "    @staticmethod\n",
    "    def outpro(a,b):\n",
    "        return np.outer(a, b)"
   ]
  },
  {
   "cell_type": "code",
   "execution_count": 5,
   "id": "bf136bf9-8ca6-43cb-8757-68748e0a7787",
   "metadata": {},
   "outputs": [],
   "source": [
    "#Quantum.conjugate_transpose(Quantum.X)"
   ]
  },
  {
   "cell_type": "code",
   "execution_count": null,
   "id": "f4d73957-4f52-4b86-812a-3835c98c6f65",
   "metadata": {},
   "outputs": [],
   "source": [
    "Quantum.ket_1"
   ]
  },
  {
   "cell_type": "code",
   "execution_count": null,
   "id": "c6a166c4-4d1e-4bab-826e-942bff2ca01e",
   "metadata": {},
   "outputs": [],
   "source": [
    "Quantum.ket_0"
   ]
  },
  {
   "cell_type": "code",
   "execution_count": null,
   "id": "fb4ec00b-6641-413e-93f3-3b1236e42f4d",
   "metadata": {},
   "outputs": [],
   "source": [
    "Quantum.I"
   ]
  },
  {
   "cell_type": "code",
   "execution_count": null,
   "id": "664aaafa-0495-4f27-b0b9-4e070ea63ceb",
   "metadata": {},
   "outputs": [],
   "source": [
    "Quantum.Z"
   ]
  },
  {
   "cell_type": "code",
   "execution_count": null,
   "id": "e767838e-7a30-4ee1-ba7b-899e1acee99b",
   "metadata": {},
   "outputs": [],
   "source": [
    "Quantum.Y"
   ]
  },
  {
   "cell_type": "code",
   "execution_count": null,
   "id": "a82514a5-fdcb-4be0-a636-5b1156e9587c",
   "metadata": {},
   "outputs": [],
   "source": [
    "Quantum.H"
   ]
  },
  {
   "cell_type": "code",
   "execution_count": null,
   "id": "9131824c-cce3-4e3e-81fa-dc133183e8ea",
   "metadata": {},
   "outputs": [],
   "source": [
    "Quantum.tensor(Quantum.ket_0, Quantum.X)"
   ]
  },
  {
   "cell_type": "code",
   "execution_count": null,
   "id": "be69c710-317f-4b9a-89a5-d0ce6912ced3",
   "metadata": {},
   "outputs": [],
   "source": [
    "Quantum.inpro(Quantum.X, Quantum.ket_1)"
   ]
  },
  {
   "cell_type": "code",
   "execution_count": null,
   "id": "bce7526d-1257-4931-b417-0da72531cef4",
   "metadata": {},
   "outputs": [],
   "source": [
    "Quantum.outpro(Quantum.Y, Quantum.ket_0)"
   ]
  },
  {
   "cell_type": "code",
   "execution_count": null,
   "id": "8192b6b4-dfe6-4c09-9b01-585d81e33981",
   "metadata": {},
   "outputs": [],
   "source": [
    "Quantum.times(Quantum.X, Quantum.ket_1)"
   ]
  },
  {
   "cell_type": "code",
   "execution_count": 15,
   "id": "dd15e269-e888-4887-aeee-336d81ce05d3",
   "metadata": {},
   "outputs": [
    {
     "name": "stdout",
     "output_type": "stream",
     "text": [
      "[0.70710678 0.70710678]\n"
     ]
    }
   ],
   "source": [
    "def resolucao():\n",
    "    # Termo 1: Resolvendo o produto interno ⟨1|1⟩\n",
    "    inner = Quantum.inpro(Quantum.ket_1, Quantum.ket_1)\n",
    "\n",
    "    # Termo 2: H . X . |1⟩\n",
    "    X_ket_1 = Quantum.times(Quantum.X, Quantum.ket_1)  # X|1>\n",
    "    H_X_ket_1 = Quantum.times(Quantum.H, X_ket_1)  # H(X|1>)\n",
    "\n",
    "    result = np.kron(inner, H_X_ket_1) \n",
    "\n",
    "    # CORREÇÃO: não faz sentido usar uma transformação de matrizes. A conta deve ser realizada somente com as operações da equação. \n",
    "    result_column = result.reshape(-1, 1)\n",
    "    \n",
    "    print(result)\n",
    "\n",
    "resolucao()"
   ]
  },
  {
   "cell_type": "code",
   "execution_count": null,
   "id": "14fc5cc3-d287-4de6-a5a1-5ec234ad6d19",
   "metadata": {},
   "outputs": [],
   "source": []
  },
  {
   "cell_type": "code",
   "execution_count": null,
   "id": "fe0a306e-de71-404a-9194-1bcbda1eb459",
   "metadata": {},
   "outputs": [],
   "source": []
  }
 ],
 "metadata": {
  "kernelspec": {
   "display_name": "Python 3 (ipykernel)",
   "language": "python",
   "name": "python3"
  },
  "language_info": {
   "codemirror_mode": {
    "name": "ipython",
    "version": 3
   },
   "file_extension": ".py",
   "mimetype": "text/x-python",
   "name": "python",
   "nbconvert_exporter": "python",
   "pygments_lexer": "ipython3",
   "version": "3.12.5"
  }
 },
 "nbformat": 4,
 "nbformat_minor": 5
}
