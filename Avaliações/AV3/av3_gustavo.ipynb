{
 "cells": [
  {
   "cell_type": "markdown",
   "id": "b5f9cec0-e472-48ee-ac8b-0583244fe517",
   "metadata": {},
   "source": [
    "# Questão 1"
   ]
  },
  {
   "cell_type": "code",
   "execution_count": 148,
   "id": "ddb245c5-fd91-44bf-b873-4b19103d5146",
   "metadata": {},
   "outputs": [
    {
     "name": "stdout",
     "output_type": "stream",
     "text": [
      "[[0]\n",
      " [1]]\n"
     ]
    }
   ],
   "source": [
    "import numpy as np\n",
    "class Quantica:\n",
    "    # Atributos\n",
    "    ket_0 = np.array([   [1] ,[0]    ])\n",
    "    ket_1 = np.array([   [0], [1]  ])\n",
    "    I = np.eye(2)\n",
    "    X = np.array([[0, 1], [1, 0]])\n",
    "    Y = np.array([[0, -1j], [1j , 0]])\n",
    "    Z = np.array([[1, 0], [0, -1]])\n",
    "    H = ( 1 / np.sqrt(2)) * np.array([[1, 1], [1, -1]])\n",
    "\n",
    "\n",
    "    ket_plus = (1 / np.sqrt(2)) * np.array([1, 1])  # |+>\n",
    "    ket_minus = (1 / np.sqrt(2)) * np.array([1, -1])  # |->\n",
    "\n",
    "    @staticmethod\n",
    "    def tconj(a):\n",
    "        return a.conj().T\n",
    "        \n",
    "    def tensor(a, b):\n",
    "        return np.kron(a, b)\n",
    "\n",
    "    def times(a, b):\n",
    "        return np.dot(a, b)\n",
    "\n",
    "    def inpro(a, b):\n",
    "        return np.dot(a, b)\n",
    "\n",
    "    def outpro(a, b):\n",
    "        return np.outer(a, b)\n"
   ]
  },
  {
   "cell_type": "markdown",
   "id": "21a2bdec-5837-443b-9d0f-c195ee0206c2",
   "metadata": {},
   "source": [
    "# Questão 2"
   ]
  },
  {
   "cell_type": "code",
   "execution_count": 158,
   "id": "8eeba790-2efe-4bb5-8d6b-972440e804d1",
   "metadata": {},
   "outputs": [],
   "source": [
    "import numpy as np\n",
    "\n",
    "def resolucao():\n",
    "    # Calculando X /1>\n",
    "    X_ket_1 = Quantica.times(Quantica.X, Quantica.ket_1)\n",
    "\n",
    "    # Calculando H (X /1>)\n",
    "    H_X_ket_1 = Quantica.times(Quantica.H, X_ket_1)\n",
    "\n",
    "    # Calculando o produto interno de <1|1>\n",
    "    interno = Quantica.inpro(Quantica.tconj(Quantica.ket_1), Quantica.ket_1)\n",
    "\n",
    "    # Calculando o produto tensorial\n",
    "    resultado_final = Quantica.tensor(interno, H_X_ket_1)\n",
    "\n",
    "    print(resultado_final)"
   ]
  },
  {
   "cell_type": "code",
   "execution_count": 159,
   "id": "d3002d26-842c-401f-9351-cf6e6bd5f929",
   "metadata": {},
   "outputs": [
    {
     "name": "stdout",
     "output_type": "stream",
     "text": [
      "[[0.70710678]\n",
      " [0.70710678]]\n"
     ]
    }
   ],
   "source": [
    "resolucao()"
   ]
  },
  {
   "cell_type": "code",
   "execution_count": null,
   "id": "05b501d2-7b0c-4009-be87-04bcdf81de93",
   "metadata": {},
   "outputs": [],
   "source": []
  }
 ],
 "metadata": {
  "kernelspec": {
   "display_name": "Python 3 (ipykernel)",
   "language": "python",
   "name": "python3"
  },
  "language_info": {
   "codemirror_mode": {
    "name": "ipython",
    "version": 3
   },
   "file_extension": ".py",
   "mimetype": "text/x-python",
   "name": "python",
   "nbconvert_exporter": "python",
   "pygments_lexer": "ipython3",
   "version": "3.12.5"
  }
 },
 "nbformat": 4,
 "nbformat_minor": 5
}
