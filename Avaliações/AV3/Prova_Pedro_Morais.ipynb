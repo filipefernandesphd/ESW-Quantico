{
 "cells": [
  {
   "cell_type": "code",
   "execution_count": 2,
   "id": "b3399901-3e6d-42b2-8e89-8d49fb21613e",
   "metadata": {},
   "outputs": [],
   "source": [
    "import numpy as np"
   ]
  },
  {
   "cell_type": "code",
   "execution_count": 56,
   "id": "4ced10f9-6bc7-42b6-b7b3-ec2bcd9c51c7",
   "metadata": {},
   "outputs": [],
   "source": [
    "class A:\n",
    "    def __init__():    \n",
    "        ket_0 = np.array([1,0])\n",
    "        ket_1 = np.array([0,1])\n",
    "        H = (1/np.sqrt(2)) * np.array([[1,1],[1,-1]])\n",
    "        I = np.eye(2)\n",
    "        X = np.array([[0,1],[1,0]])\n",
    "        Y = np.array([[0,-1],[1j,0]])\n",
    "        Z = np.array([[1,0],[0,-1]])\n",
    "\n",
    "    @staticmethod\n",
    "    def tconj(a):\n",
    "        return a.T.conj\n",
    "\n",
    "    @staticmethod\n",
    "    def tensor(a, b):\n",
    "        return np.krom(a,b)\n",
    "        \n",
    "    @staticmethod\n",
    "    def times(a, b):\n",
    "        mult = a @ b\n",
    "        return mult\n",
    "\n",
    "    @staticmethod\n",
    "    def inpro(a, b):\n",
    "        return np.dot(a.conj().T, b)\n",
    "\n",
    "    @staticmethod\n",
    "    def outpro(a, b):\n",
    "        return np.outer(a,b)"
   ]
  },
  {
   "cell_type": "code",
   "execution_count": 57,
   "id": "ac21537b-248a-45f0-b5c4-2a504a18adcc",
   "metadata": {},
   "outputs": [],
   "source": [
    "def resolucao():\n",
    "    a = A.tconj(ket_1)\n",
    "    b = A.inpro(a, ket_1)\n",
    "    c = A.time(H, X)\n",
    "    d = A.outpro(c, ket_1)\n",
    "    result = A.tensor(b, d)"
   ]
  },
  {
   "cell_type": "code",
   "execution_count": null,
   "id": "45cd846f-ab5a-4b70-943e-2f2668d0f7c0",
   "metadata": {},
   "outputs": [],
   "source": [
    "#OBG POR TUDO XD acho q nao deu"
   ]
  },
  {
   "cell_type": "code",
   "execution_count": null,
   "id": "c0ad2344-7089-44da-8bff-a549d7e8167f",
   "metadata": {},
   "outputs": [],
   "source": []
  }
 ],
 "metadata": {
  "kernelspec": {
   "display_name": "Python 3 (ipykernel)",
   "language": "python",
   "name": "python3"
  },
  "language_info": {
   "codemirror_mode": {
    "name": "ipython",
    "version": 3
   },
   "file_extension": ".py",
   "mimetype": "text/x-python",
   "name": "python",
   "nbconvert_exporter": "python",
   "pygments_lexer": "ipython3",
   "version": "3.12.5"
  }
 },
 "nbformat": 4,
 "nbformat_minor": 5
}
