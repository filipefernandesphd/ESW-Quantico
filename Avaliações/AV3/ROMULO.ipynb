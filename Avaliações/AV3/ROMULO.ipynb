{
 "cells": [
  {
   "cell_type": "code",
   "execution_count": 15,
   "id": "31d9de16-83e8-4c6d-918f-8cd97bf7faf0",
   "metadata": {},
   "outputs": [],
   "source": [
    "import numpy as np\n",
    "ket_0 = np.array([[1],[0]])\n",
    "ket_1 = np.array([[0],[1]])\n",
    "bra_0 = ket_0.T\n",
    "bra_1 = ket_1.T\n"
   ]
  },
  {
   "cell_type": "code",
   "execution_count": 20,
   "id": "438da5d1-9bcd-4ba9-af2f-73795fb25a2c",
   "metadata": {},
   "outputs": [
    {
     "name": "stdout",
     "output_type": "stream",
     "text": [
      "[[0 1]]\n"
     ]
    }
   ],
   "source": [
    "print(bra_1)"
   ]
  }
 ],
 "metadata": {
  "kernelspec": {
   "display_name": "Python 3 (ipykernel)",
   "language": "python",
   "name": "python3"
  },
  "language_info": {
   "codemirror_mode": {
    "name": "ipython",
    "version": 3
   },
   "file_extension": ".py",
   "mimetype": "text/x-python",
   "name": "python",
   "nbconvert_exporter": "python",
   "pygments_lexer": "ipython3",
   "version": "3.12.5"
  }
 },
 "nbformat": 4,
 "nbformat_minor": 5
}
