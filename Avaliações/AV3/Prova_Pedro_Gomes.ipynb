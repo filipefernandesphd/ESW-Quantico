{
 "cells": [
  {
   "cell_type": "code",
   "execution_count": 63,
   "id": "4f23eb4b-caf6-4244-964d-3635009ee4f9",
   "metadata": {},
   "outputs": [],
   "source": [
    "import numpy as np"
   ]
  },
  {
   "cell_type": "code",
   "execution_count": 139,
   "id": "bcad6144-0449-4e58-83ea-660a6c172f4b",
   "metadata": {},
   "outputs": [],
   "source": [
    "class Quant :\n",
    "    ket0 = np.array([1,0])\n",
    "    ket1 = np.array([0,1])\n",
    "    bra0 = ket0.conj().T\n",
    "    bra1 = ket1.conj().T\n",
    "    \n",
    "    I = np.array( [[1,0],\n",
    "                   [0,1]] )\n",
    "    X = np.array( [[0,1],\n",
    "                   [1,0]] )\n",
    "    Y = np.array( [[0,-1j],\n",
    "                   [1j,0]] )\n",
    "    Z = np.array( [[1,0],\n",
    "                   [0,-1]] )\n",
    "    H = (1/np.sqrt(2))*np.array([ [1,1],\n",
    "                                 [1,-1] ])\n",
    "\n",
    "    @staticmethod\n",
    "    def tconj(a):\n",
    "        return a.conj().T\n",
    "\n",
    "    @staticmethod\n",
    "    def tensor(a,b):\n",
    "        return np.kron(a,b)\n",
    "\n",
    "    @staticmethod\n",
    "    def times(a,b):\n",
    "        return np.dot(a,b)\n",
    "\n",
    "    @staticmethod\n",
    "    def inpro(a,b):\n",
    "        return np.inner(a,b)\n",
    "\n",
    "    @staticmethod\n",
    "    def outpro(a,b):\n",
    "        return np.outer(a,b)"
   ]
  },
  {
   "cell_type": "code",
   "execution_count": 140,
   "id": "37b898cd-fb6a-4b56-9a64-bf1b7658c8e1",
   "metadata": {},
   "outputs": [
    {
     "name": "stdout",
     "output_type": "stream",
     "text": [
      "[0 1]\n"
     ]
    }
   ],
   "source": [
    "#  (<1|1> o (H.X|1>)\n",
    "#   {P3}        {P1}\n",
    "#           { P2   }\n",
    "#{       P4        }\n",
    "\n",
    "P1 = Quant.times(Quant.X,Quant.ket1)\n",
    "P1\n",
    "print(Quant.ket1)"
   ]
  },
  {
   "cell_type": "code",
   "execution_count": 141,
   "id": "b86c367a-cb05-463d-b3fa-cbcd2a510443",
   "metadata": {},
   "outputs": [
    {
     "data": {
      "text/plain": [
       "array([0.70710678, 0.70710678])"
      ]
     },
     "execution_count": 141,
     "metadata": {},
     "output_type": "execute_result"
    }
   ],
   "source": [
    "P2 = Quant.times(Quant.H,P1)\n",
    "P2"
   ]
  },
  {
   "cell_type": "code",
   "execution_count": 142,
   "id": "35a88e14-5791-4fb0-b9b6-ec715fd17d79",
   "metadata": {},
   "outputs": [
    {
     "data": {
      "text/plain": [
       "np.int64(1)"
      ]
     },
     "execution_count": 142,
     "metadata": {},
     "output_type": "execute_result"
    }
   ],
   "source": [
    "P3 = Quant.inpro(Quant.bra1,Quant.ket1)\n",
    "P3"
   ]
  },
  {
   "cell_type": "code",
   "execution_count": 123,
   "id": "b945789f-6b02-4935-94e9-a2d93e4aa697",
   "metadata": {},
   "outputs": [
    {
     "data": {
      "text/plain": [
       "array([0.70710678, 0.70710678])"
      ]
     },
     "execution_count": 123,
     "metadata": {},
     "output_type": "execute_result"
    }
   ],
   "source": [
    "P4 = Quant.tensor(P3,P2)\n",
    "P4"
   ]
  }
 ],
 "metadata": {
  "kernelspec": {
   "display_name": "Python 3 (ipykernel)",
   "language": "python",
   "name": "python3"
  },
  "language_info": {
   "codemirror_mode": {
    "name": "ipython",
    "version": 3
   },
   "file_extension": ".py",
   "mimetype": "text/x-python",
   "name": "python",
   "nbconvert_exporter": "python",
   "pygments_lexer": "ipython3",
   "version": "3.12.5"
  }
 },
 "nbformat": 4,
 "nbformat_minor": 5
}
