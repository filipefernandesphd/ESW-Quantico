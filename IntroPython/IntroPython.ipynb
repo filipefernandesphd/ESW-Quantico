{
 "cells": [
  {
   "cell_type": "markdown",
   "id": "551cb978-a598-4bf5-abc4-79f900a00fda",
   "metadata": {},
   "source": [
    "# Variáveis\n",
    "nome_variavel = valor"
   ]
  },
  {
   "cell_type": "code",
   "execution_count": 1,
   "id": "d71e7801-60ff-456b-bbe1-92cdcb6623bc",
   "metadata": {},
   "outputs": [],
   "source": [
    "# Números\n",
    "idade = 25  # Inteiro\n",
    "altura = 1.75  # Float (ponto flutuante)"
   ]
  },
  {
   "cell_type": "code",
   "execution_count": 2,
   "id": "1c53f8ec-a22a-4f36-8d58-543fcc841605",
   "metadata": {},
   "outputs": [],
   "source": [
    "# String \n",
    "nome = \"Ana\"  # String entre aspas duplas\n",
    "cidade = 'São Paulo'  # String entre aspas simples"
   ]
  },
  {
   "cell_type": "code",
   "execution_count": 3,
   "id": "526a05e4-a2f2-464d-b574-0163f8c689f9",
   "metadata": {},
   "outputs": [],
   "source": [
    "# Boolean\n",
    "aprovado = True  # Booleano verdadeiro\n",
    "reprovado = False  # Booleano falso"
   ]
  },
  {
   "cell_type": "code",
   "execution_count": 4,
   "id": "61225cfa-2ea2-490a-95ac-513a67303640",
   "metadata": {},
   "outputs": [],
   "source": [
    "# Listas e dicionários\n",
    "frutas = [\"maçã\", \"banana\", \"laranja\"]  # Lista\n",
    "notas = {\"Matemática\": 9.5, \"Física\": 8.0}  # Dicionário"
   ]
  },
  {
   "cell_type": "code",
   "execution_count": 5,
   "id": "b7d10493-099b-40d9-835f-d8f8da8d31ad",
   "metadata": {},
   "outputs": [
    {
     "name": "stdout",
     "output_type": "stream",
     "text": [
      "25\n"
     ]
    }
   ],
   "source": [
    "# Exibir valor\n",
    "idade = 25\n",
    "print(idade)  # Saída: <class 'int'>"
   ]
  },
  {
   "cell_type": "markdown",
   "id": "dd842948-0078-45ae-a7ad-3a689b8ab92f",
   "metadata": {},
   "source": [
    "# Tipos de Dados\n",
    "Em Python é possível indicar o tipo de uma variável usando type hints (anotações de tipo). No entanto, isso é apenas uma indicação para fins de legibilidade e validação estática (por ferramentas como mypy), pois Python é uma linguagem de tipagem dinâmica, ou seja, o tipo real da variável é determinado em tempo de execução."
   ]
  },
  {
   "cell_type": "code",
   "execution_count": 81,
   "id": "d979f7cc-a8f7-45a9-aeb9-1212febfa31d",
   "metadata": {},
   "outputs": [],
   "source": [
    "nome: str = \"Ana\"  # nome é uma string\n",
    "idade: int = 25    # idade é um inteiro\n",
    "altura: float = 1.75  # altura é um número de ponto flutuante\n",
    "ativo: bool = True  # ativo é um booleano"
   ]
  },
  {
   "cell_type": "markdown",
   "id": "c3b0ce9b-3369-415a-a2bb-1acc12f151ee",
   "metadata": {},
   "source": [
    "# Concatenação\n",
    "- O operador `+` é usado para concatenar duas ou mais strings.\n",
    "- As `f-strings` permitem inserir variáveis dentro de strings de forma simples e legível.\n",
    "- O método `join()` concatena uma sequência de strings usando um separador especificado."
   ]
  },
  {
   "cell_type": "code",
   "execution_count": 6,
   "id": "0d1de9ba-c06d-4adc-a729-7c18af48c30d",
   "metadata": {},
   "outputs": [
    {
     "name": "stdout",
     "output_type": "stream",
     "text": [
      "Ana Silva\n"
     ]
    }
   ],
   "source": [
    "nome = \"Ana\"\n",
    "sobrenome = \"Silva\"\n",
    "nome_completo = nome + \" \" + sobrenome\n",
    "print(nome_completo)  # Saída: Ana Silva"
   ]
  },
  {
   "cell_type": "code",
   "execution_count": 7,
   "id": "97c36765-f873-4334-8442-9d4032918abb",
   "metadata": {},
   "outputs": [
    {
     "name": "stdout",
     "output_type": "stream",
     "text": [
      "Ana Silva\n"
     ]
    }
   ],
   "source": [
    "nome = \"Ana\"\n",
    "sobrenome = \"Silva\"\n",
    "nome_completo = f\"{nome} {sobrenome}\"\n",
    "print(nome_completo)  # Saída: Ana Silva"
   ]
  },
  {
   "cell_type": "code",
   "execution_count": 8,
   "id": "8c794db9-39cd-4172-bd6f-fde4a14a52eb",
   "metadata": {},
   "outputs": [
    {
     "name": "stdout",
     "output_type": "stream",
     "text": [
      "Ana Silva\n"
     ]
    }
   ],
   "source": [
    "nomes = [\"Ana\", \"Silva\"]\n",
    "nome_completo = \" \".join(nomes)\n",
    "print(nome_completo)  # Saída: Ana Silva"
   ]
  },
  {
   "cell_type": "markdown",
   "id": "6246a285-e079-4771-a815-4563afe75da7",
   "metadata": {},
   "source": [
    "# Estruturas Condicionais"
   ]
  },
  {
   "cell_type": "code",
   "execution_count": 9,
   "id": "e7e1c06e-8fe8-4ac7-84f9-e9a569b59256",
   "metadata": {},
   "outputs": [
    {
     "name": "stdout",
     "output_type": "stream",
     "text": [
      "Aprovado\n"
     ]
    }
   ],
   "source": [
    "nota = 7.5\n",
    "\n",
    "if nota >= 9:\n",
    "    print(\"Excelente\")\n",
    "elif nota >= 7:\n",
    "    print(\"Aprovado\")\n",
    "else:\n",
    "    print(\"Reprovado\")"
   ]
  },
  {
   "cell_type": "markdown",
   "id": "cd406f08-5cf5-4d0a-ae60-7dbc483069f9",
   "metadata": {},
   "source": [
    "# Operadores relacionais\n",
    "\n",
    "Os operadores relacionais são usados para comparar valores e definir as condições:\n",
    "- `==`: igual a\n",
    "- `!=`: diferente de\n",
    "- `>` : maior que\n",
    "- `<`: menor que\n",
    "- `>=`: maior ou igual a\n",
    "- `<=`: menor ou igual a"
   ]
  },
  {
   "cell_type": "markdown",
   "id": "3aade0ee-6ae1-4c8d-b9aa-d330d13ffdc9",
   "metadata": {},
   "source": [
    "# Operadores Lógicos\n",
    "- `and`: retorna True se ambas as condições forem verdadeiras.\n",
    "- `or`: retorna True se pelo menos uma condição for verdadeira.\n",
    "- `not`: inverte o valor lógico da condição."
   ]
  },
  {
   "cell_type": "code",
   "execution_count": 10,
   "id": "2160b6b9-596b-4f82-86db-bf6d92648a69",
   "metadata": {},
   "outputs": [
    {
     "name": "stdout",
     "output_type": "stream",
     "text": [
      "Aprovado para o crédito\n"
     ]
    }
   ],
   "source": [
    "idade = 20\n",
    "renda = 2500\n",
    "\n",
    "if idade >= 18 and renda >= 2000:\n",
    "    print(\"Aprovado para o crédito\")\n",
    "else:\n",
    "    print(\"Não aprovado para o crédito\")"
   ]
  },
  {
   "cell_type": "markdown",
   "id": "e4d9083c-29fb-4ecb-a7d9-eecfd5c5db55",
   "metadata": {},
   "source": [
    "# Estruturas de Repetição\n",
    "1.\t`while` – Repetição baseada em uma condição booleana.\n",
    "2.\t`for` – Repetição baseada em iteração sobre uma sequência (lista, string, intervalo, etc.)."
   ]
  },
  {
   "cell_type": "markdown",
   "id": "06f687b9-55e5-41bc-af72-98ec2a1844ce",
   "metadata": {},
   "source": [
    "### While"
   ]
  },
  {
   "cell_type": "code",
   "execution_count": 11,
   "id": "f2717937-3cfb-4bde-addc-ce4527214140",
   "metadata": {},
   "outputs": [
    {
     "name": "stdout",
     "output_type": "stream",
     "text": [
      "Contador: 0\n",
      "Contador: 1\n",
      "Contador: 2\n",
      "Contador: 3\n",
      "Contador: 4\n"
     ]
    }
   ],
   "source": [
    "contador = 0\n",
    "while contador < 5:\n",
    "    print(f\"Contador: {contador}\")\n",
    "    contador += 1  # Incrementa o contador para evitar laço infinito"
   ]
  },
  {
   "cell_type": "markdown",
   "id": "f4d018b0-81bd-4b22-b419-e1e0b53e5890",
   "metadata": {},
   "source": [
    "### For"
   ]
  },
  {
   "cell_type": "code",
   "execution_count": 12,
   "id": "620176ee-7ba8-44dc-b5c5-50fff5e164c3",
   "metadata": {},
   "outputs": [
    {
     "name": "stdout",
     "output_type": "stream",
     "text": [
      "maçã\n",
      "banana\n",
      "laranja\n"
     ]
    }
   ],
   "source": [
    "frutas = [\"maçã\", \"banana\", \"laranja\"]\n",
    "for fruta in frutas:\n",
    "    print(fruta)"
   ]
  },
  {
   "cell_type": "code",
   "execution_count": 13,
   "id": "2b22c377-533f-45f8-a013-96b4661c6dab",
   "metadata": {},
   "outputs": [
    {
     "name": "stdout",
     "output_type": "stream",
     "text": [
      "Iteração: 0\n",
      "Iteração: 1\n",
      "Iteração: 2\n",
      "Iteração: 3\n",
      "Iteração: 4\n"
     ]
    }
   ],
   "source": [
    "# range\n",
    "for i in range(5):  # Gera os números de 0 a 4\n",
    "    print(f\"Iteração: {i}\")"
   ]
  },
  {
   "cell_type": "code",
   "execution_count": 14,
   "id": "7afe274a-ba3d-4639-8bd9-c99328148920",
   "metadata": {},
   "outputs": [
    {
     "name": "stdout",
     "output_type": "stream",
     "text": [
      "0\n",
      "1\n",
      "2\n",
      "3\n",
      "4\n"
     ]
    }
   ],
   "source": [
    "# break\n",
    "for i in range(10):\n",
    "    if i == 5:\n",
    "        break  # Interrompe o laço quando i for igual a 5\n",
    "    print(i)"
   ]
  },
  {
   "cell_type": "code",
   "execution_count": 15,
   "id": "9337d7f4-67ca-4d10-a715-b7f59ada21fe",
   "metadata": {},
   "outputs": [
    {
     "name": "stdout",
     "output_type": "stream",
     "text": [
      "1\n",
      "3\n",
      "5\n",
      "7\n",
      "9\n"
     ]
    }
   ],
   "source": [
    "# continue\n",
    "for i in range(10):\n",
    "    if i % 2 == 0:\n",
    "        continue  # Pula a iteração se i for par\n",
    "    print(i)"
   ]
  },
  {
   "cell_type": "code",
   "execution_count": 16,
   "id": "671f03a0-51d0-42fa-a9bd-ad72b1326bc9",
   "metadata": {},
   "outputs": [
    {
     "name": "stdout",
     "output_type": "stream",
     "text": [
      "i: 0, j: 0\n",
      "i: 0, j: 1\n",
      "i: 1, j: 0\n",
      "i: 1, j: 1\n",
      "i: 2, j: 0\n",
      "i: 2, j: 1\n"
     ]
    }
   ],
   "source": [
    "# aninhado\n",
    "for i in range(3):\n",
    "    for j in range(2):\n",
    "        print(f\"i: {i}, j: {j}\")"
   ]
  },
  {
   "cell_type": "markdown",
   "id": "53ba9a9b-6bfb-4083-886e-4a3d6a89fcc5",
   "metadata": {},
   "source": [
    "# Estrutura de Dados\n",
    "1.\t`List`: Armazena uma coleção ordenada e mutável de elementos.\n",
    "2.  `Dictionary`: Armazena pares chave: valor de forma mutável.\n",
    "3.  `Tupla`: Armazena uma coleção ordenada e imutável."
   ]
  },
  {
   "cell_type": "markdown",
   "id": "3c0f0afa-c47e-4630-b623-d7e8ac67d0ed",
   "metadata": {},
   "source": [
    "### 1. List"
   ]
  },
  {
   "cell_type": "code",
   "execution_count": 17,
   "id": "5dd1cb5a-a2d6-4d39-a300-b6a5b7235964",
   "metadata": {},
   "outputs": [],
   "source": [
    "# Lista vazia\n",
    "lista_vazia = []\n",
    "\n",
    "# Lista com elementos homogêneos (do mesmo tipo)\n",
    "lista_numeros = [1, 2, 3, 4, 5]\n",
    "\n",
    "# Lista com elementos heterogêneos (diferentes tipos)\n",
    "lista_mista = [1, \"Python\", 3.5, True]"
   ]
  },
  {
   "cell_type": "code",
   "execution_count": 18,
   "id": "45e882fa-0b58-4927-a0ca-feb934ff6840",
   "metadata": {},
   "outputs": [
    {
     "name": "stdout",
     "output_type": "stream",
     "text": [
      "maçã\n",
      "laranja\n"
     ]
    }
   ],
   "source": [
    "frutas = [\"maçã\", \"banana\", \"laranja\"]\n",
    "\n",
    "print(frutas[0])  # Saída: maçã (primeiro elemento)\n",
    "print(frutas[2])  # Saída: laranja (terceiro elemento)"
   ]
  },
  {
   "cell_type": "code",
   "execution_count": 19,
   "id": "d3f8e5ba-9f7c-4875-b440-ee6d233a410e",
   "metadata": {},
   "outputs": [
    {
     "name": "stdout",
     "output_type": "stream",
     "text": [
      "laranja\n"
     ]
    }
   ],
   "source": [
    "# Também é possível usar índices negativos para acessar elementos a partir do final da lista.\n",
    "print(frutas[-1])  # Saída: laranja (último elemento)"
   ]
  },
  {
   "cell_type": "markdown",
   "id": "634b0d92-be2a-4345-90e2-ec89e657e653",
   "metadata": {},
   "source": [
    "#### Operações"
   ]
  },
  {
   "cell_type": "code",
   "execution_count": 20,
   "id": "38ae9043-9bf6-4908-90d4-816e3c9b38ec",
   "metadata": {},
   "outputs": [
    {
     "name": "stdout",
     "output_type": "stream",
     "text": [
      "['maçã', 'banana', 'laranja']\n"
     ]
    }
   ],
   "source": [
    "# append(): Adiciona um elemento ao final da lista.\n",
    "frutas = [\"maçã\", \"banana\"]\n",
    "frutas.append(\"laranja\")\n",
    "print(frutas)  # Saída: ['maçã', 'banana', 'laranja']"
   ]
  },
  {
   "cell_type": "code",
   "execution_count": 21,
   "id": "ab0b2ff5-21bf-49ee-b648-6e2fd10348e4",
   "metadata": {},
   "outputs": [
    {
     "name": "stdout",
     "output_type": "stream",
     "text": [
      "['maçã', 'uva', 'banana', 'laranja']\n"
     ]
    }
   ],
   "source": [
    "# insert(): Insere um elemento em uma posição específica.\n",
    "frutas.insert(1, \"uva\")  # Insere \"uva\" na posição 1\n",
    "print(frutas)  # Saída: ['maçã', 'uva', 'banana']"
   ]
  },
  {
   "cell_type": "code",
   "execution_count": 22,
   "id": "f9f48ec2-90c1-4453-ae5c-b07221bf9bd7",
   "metadata": {},
   "outputs": [
    {
     "name": "stdout",
     "output_type": "stream",
     "text": [
      "['maçã', 'uva', 'laranja']\n"
     ]
    }
   ],
   "source": [
    "# remove(): Remove a primeira ocorrência de um elemento.\n",
    "frutas.remove(\"banana\")\n",
    "print(frutas)  # Saída: ['maçã', 'laranja']"
   ]
  },
  {
   "cell_type": "code",
   "execution_count": 23,
   "id": "5c4a7b8c-f304-4eac-abf7-89fb286b0061",
   "metadata": {},
   "outputs": [
    {
     "name": "stdout",
     "output_type": "stream",
     "text": [
      "laranja\n",
      "['maçã', 'uva']\n"
     ]
    }
   ],
   "source": [
    "# pop(): Remove e retorna o elemento de uma posição específica (ou o último, se nenhum índice for fornecido).\n",
    "fruta_removida = frutas.pop()\n",
    "print(fruta_removida)  # Saída: laranja\n",
    "print(frutas)  # Saída: ['maçã', 'banana']"
   ]
  },
  {
   "cell_type": "code",
   "execution_count": 24,
   "id": "116b5281-5a8f-4bf3-9354-1a9c1e20bccf",
   "metadata": {},
   "outputs": [
    {
     "name": "stdout",
     "output_type": "stream",
     "text": [
      "['maçã']\n"
     ]
    }
   ],
   "source": [
    "# O método pop() remove o elemento da posição indicada.\n",
    "frutas.pop(1)  # Remove o elemento na posição 1 (\"banana\")\n",
    "print(frutas)  # Saída: ['maçã']"
   ]
  },
  {
   "cell_type": "code",
   "execution_count": 25,
   "id": "02ca1d64-b286-423f-aa53-7cd48ed67877",
   "metadata": {},
   "outputs": [
    {
     "name": "stdout",
     "output_type": "stream",
     "text": [
      "1\n"
     ]
    }
   ],
   "source": [
    "# Use a função len() para obter o número de elementos da lista.\n",
    "print(len(frutas))  # Saída: 3"
   ]
  },
  {
   "cell_type": "code",
   "execution_count": 26,
   "id": "9f478ad2-9a8b-4d3e-9236-5a868c5cb395",
   "metadata": {},
   "outputs": [
    {
     "name": "stdout",
     "output_type": "stream",
     "text": [
      "True\n",
      "False\n"
     ]
    }
   ],
   "source": [
    "# Use o operador in para verificar se um elemento está na lista.\n",
    "print(\"maçã\" in frutas)  # Saída: True\n",
    "print(\"uva\" in frutas)     # Saída: False"
   ]
  },
  {
   "cell_type": "code",
   "execution_count": 27,
   "id": "44abcac2-26c1-4507-b6a4-c854c081dcc5",
   "metadata": {},
   "outputs": [
    {
     "name": "stdout",
     "output_type": "stream",
     "text": [
      "[1, 2, 3, 4, 5, 6]\n"
     ]
    }
   ],
   "source": [
    "# Concatenar listas:\n",
    "lista1 = [1, 2, 3]\n",
    "lista2 = [4, 5, 6]\n",
    "lista_concatenada = lista1 + lista2\n",
    "print(lista_concatenada)  # Saída: [1, 2, 3, 4, 5, 6]"
   ]
  },
  {
   "cell_type": "code",
   "execution_count": 28,
   "id": "eb257960-d95e-4c76-920a-8d1f6a4b1538",
   "metadata": {},
   "outputs": [
    {
     "name": "stdout",
     "output_type": "stream",
     "text": [
      "[4, 3, 2, 1]\n"
     ]
    }
   ],
   "source": [
    "# Reverter a ordem dos elementos:\n",
    "lista = [1, 2, 3, 4]\n",
    "lista.reverse()\n",
    "print(lista)  # Saída: [4, 3, 2, 1]"
   ]
  },
  {
   "cell_type": "code",
   "execution_count": 29,
   "id": "1a20f93e-c742-4f93-8ec5-d48143ad0275",
   "metadata": {},
   "outputs": [
    {
     "name": "stdout",
     "output_type": "stream",
     "text": [
      "[1, 2, 5, 9]\n"
     ]
    }
   ],
   "source": [
    "# Ordenar uma lista:\n",
    "numeros = [5, 2, 9, 1]\n",
    "numeros.sort()\n",
    "print(numeros)  # Saída: [1, 2, 5, 9]"
   ]
  },
  {
   "cell_type": "markdown",
   "id": "865f4b59-4957-4247-99f5-8fad08166a40",
   "metadata": {},
   "source": [
    "### 2. Dictionary\n",
    "Armazena pares chave: valor de forma mutável."
   ]
  },
  {
   "cell_type": "code",
   "execution_count": 30,
   "id": "d369f849-49cd-4228-b388-2d44cb54cf97",
   "metadata": {},
   "outputs": [
    {
     "name": "stdout",
     "output_type": "stream",
     "text": [
      "Ana\n",
      "25\n",
      "São Paulo\n"
     ]
    }
   ],
   "source": [
    "# Dicionário vazio\n",
    "dicionario_vazio = {}\n",
    "\n",
    "# Dicionário com valores\n",
    "pessoa = {\"nome\": \"Ana\", \"idade\": 25, \"cidade\": \"São Paulo\"}\n",
    "\n",
    "print(pessoa[\"nome\"])  # Saída: Ana\n",
    "print(pessoa[\"idade\"])  # Saída: 25\n",
    "print(pessoa[\"cidade\"])  # Saída: São Paulo"
   ]
  },
  {
   "cell_type": "markdown",
   "id": "531ad63c-917b-4559-8b3b-268f2c88e61c",
   "metadata": {},
   "source": [
    "#### Operações"
   ]
  },
  {
   "cell_type": "code",
   "execution_count": 31,
   "id": "435173b5-54da-4db2-a84b-392c51b7c3e3",
   "metadata": {},
   "outputs": [
    {
     "name": "stdout",
     "output_type": "stream",
     "text": [
      "{'nome': 'Ana', 'idade': 26, 'cidade': 'São Paulo', 'profissao': 'Engenheira'}\n"
     ]
    }
   ],
   "source": [
    "# Adicionando e modificando elementos\n",
    "pessoa[\"profissao\"] = \"Engenheira\"  # Adiciona uma nova chave\n",
    "pessoa[\"idade\"] = 26  # Modifica o valor de uma chave existente\n",
    "print(pessoa)  # Saída: {'nome': 'Ana', 'idade': 26, 'profissao': 'Engenheira'}"
   ]
  },
  {
   "cell_type": "code",
   "execution_count": 32,
   "id": "20ee3597-772e-4f7c-bbfa-48b8aadbac72",
   "metadata": {},
   "outputs": [
    {
     "name": "stdout",
     "output_type": "stream",
     "text": [
      "Engenheira\n",
      "{'nome': 'Ana', 'idade': 26, 'cidade': 'São Paulo'}\n"
     ]
    }
   ],
   "source": [
    "# pop(): Remove uma chave específica e retorna o valor associado.\n",
    "profissao = pessoa.pop(\"profissao\")\n",
    "print(profissao)  # Saída: Engenheira\n",
    "print(pessoa)  # Saída: {'nome': 'Ana', 'idade': 26}"
   ]
  },
  {
   "cell_type": "code",
   "execution_count": 33,
   "id": "03c7e9eb-ff96-4fb6-8615-dfde6eed902e",
   "metadata": {},
   "outputs": [
    {
     "name": "stdout",
     "output_type": "stream",
     "text": [
      "{'nome': 'Ana', 'cidade': 'São Paulo'}\n"
     ]
    }
   ],
   "source": [
    "# del: Remove uma chave diretamente.\n",
    "del pessoa[\"idade\"]\n",
    "print(pessoa)  # Saída: {'nome': 'Ana'}"
   ]
  },
  {
   "cell_type": "code",
   "execution_count": 34,
   "id": "16d52d73-4ccf-43d8-801b-53b0dbc6f139",
   "metadata": {},
   "outputs": [
    {
     "name": "stdout",
     "output_type": "stream",
     "text": [
      "{}\n"
     ]
    }
   ],
   "source": [
    "# clear(): Remove todos os elementos do dicionário.\n",
    "pessoa.clear()\n",
    "print(pessoa)  # Saída: {}"
   ]
  },
  {
   "cell_type": "code",
   "execution_count": 49,
   "id": "bb3e8cba-1acf-43f4-861f-9961f48777d3",
   "metadata": {},
   "outputs": [
    {
     "name": "stdout",
     "output_type": "stream",
     "text": [
      "nome\n",
      "idade\n",
      "cidade\n"
     ]
    }
   ],
   "source": [
    "# Iterando sobre um dicionário e manipular as chaves\n",
    "pessoa = {\"nome\": \"Ana\", \"idade\": 25, \"cidade\": \"São Paulo\"}\n",
    "for chave in pessoa:\n",
    "    print(chave)  # Saída: nome, idade"
   ]
  },
  {
   "cell_type": "code",
   "execution_count": 38,
   "id": "5566c0bf-afc9-41f4-8d03-9ba17926d198",
   "metadata": {},
   "outputs": [
    {
     "name": "stdout",
     "output_type": "stream",
     "text": [
      "Ana\n",
      "25\n",
      "São Paulo\n"
     ]
    }
   ],
   "source": [
    "# Iterando sobre um dicionário e manipular os valores\n",
    "for valor in pessoa.values():\n",
    "    print(valor)  # Saída: Ana, 25"
   ]
  },
  {
   "cell_type": "code",
   "execution_count": 39,
   "id": "38ce3823-1110-4950-b4f2-f8a7976a7aa8",
   "metadata": {},
   "outputs": [
    {
     "name": "stdout",
     "output_type": "stream",
     "text": [
      "nome: Ana\n",
      "idade: 25\n",
      "cidade: São Paulo\n"
     ]
    }
   ],
   "source": [
    "# Iterando sobre um dicionário e manipular as chaves e valores\n",
    "for chave, valor in pessoa.items():\n",
    "    print(f\"{chave}: {valor}\")  # Saída: nome: Ana, idade: 25"
   ]
  },
  {
   "cell_type": "markdown",
   "id": "0a4452cd-239a-4fda-b370-6e95d9b50e29",
   "metadata": {},
   "source": [
    "### 3. Tupla\n",
    "Uma tupla é uma estrutura de dados ordenada e imutável em Python. "
   ]
  },
  {
   "cell_type": "code",
   "execution_count": 40,
   "id": "6afb0dcd-9908-4c59-8759-0a99907a246b",
   "metadata": {},
   "outputs": [],
   "source": [
    "tupla = (1, 2, 3, \"Python\")"
   ]
  },
  {
   "cell_type": "code",
   "execution_count": 41,
   "id": "af3f8674-1686-4a62-b46a-eddd31d0d8fb",
   "metadata": {},
   "outputs": [],
   "source": [
    "tupla = 1, 2, 3, \"Python\""
   ]
  },
  {
   "cell_type": "code",
   "execution_count": 42,
   "id": "1ed48e62-ef23-46d2-a991-f50ddbee159d",
   "metadata": {},
   "outputs": [],
   "source": [
    "tupla_vazia = () # tupla vazia"
   ]
  },
  {
   "cell_type": "code",
   "execution_count": 43,
   "id": "a824fde8-050a-471d-8df6-f4f847516653",
   "metadata": {},
   "outputs": [],
   "source": [
    "# Tupla com um único elemento (necessário incluir uma vírgula):\n",
    "tupla_unica = (1,)"
   ]
  },
  {
   "cell_type": "code",
   "execution_count": 44,
   "id": "832401cb-6b05-4c6c-bbb8-79ebf43d4748",
   "metadata": {},
   "outputs": [
    {
     "name": "stdout",
     "output_type": "stream",
     "text": [
      "20\n",
      "40\n"
     ]
    }
   ],
   "source": [
    "# Acessando elementos da tupla\n",
    "tupla = (10, 20, 30, 40)\n",
    "print(tupla[1])  # Saída: 20\n",
    "print(tupla[-1])  # Saída: 40 (último elemento)"
   ]
  },
  {
   "cell_type": "markdown",
   "id": "a5274047-937e-4b30-9a9a-8d4f6aa7ce49",
   "metadata": {},
   "source": [
    "#### Operações"
   ]
  },
  {
   "cell_type": "code",
   "execution_count": 46,
   "id": "55967caa-46d9-4e4a-a7b3-9abc8821d8ea",
   "metadata": {},
   "outputs": [
    {
     "name": "stdout",
     "output_type": "stream",
     "text": [
      "(1, 2, 3, 4, 5)\n"
     ]
    }
   ],
   "source": [
    "# Concatenar tuplas:\n",
    "tupla1 = (1, 2, 3)\n",
    "tupla2 = (4, 5)\n",
    "nova_tupla = tupla1 + tupla2\n",
    "print(nova_tupla)  # Saída: (1, 2, 3, 4, 5)"
   ]
  },
  {
   "cell_type": "code",
   "execution_count": 48,
   "id": "cc59d432-a694-4659-b3d4-02b328968334",
   "metadata": {},
   "outputs": [
    {
     "name": "stdout",
     "output_type": "stream",
     "text": [
      "10\n",
      "20\n",
      "30\n"
     ]
    }
   ],
   "source": [
    "# Desempacotar tuplas: Tuplas permitem que seus elementos sejam atribuídos a variáveis de forma direta.\n",
    "tupla = (10, 20, 30)\n",
    "a, b, c = tupla\n",
    "print(a)  # Saída: 10\n",
    "print(b)  # Saída: 20\n",
    "print(c)  # Saída: 30"
   ]
  },
  {
   "cell_type": "code",
   "execution_count": 52,
   "id": "16e937f5-e0c3-4864-ac84-36f9adcfeb2c",
   "metadata": {},
   "outputs": [
    {
     "name": "stdout",
     "output_type": "stream",
     "text": [
      "10\n",
      "20\n",
      "30\n",
      "40\n"
     ]
    }
   ],
   "source": [
    "# Iterar e manipular o valor\n",
    "tupla = (10, 20, 30, 40)\n",
    "\n",
    "for elemento in tupla:\n",
    "    print(elemento)"
   ]
  },
  {
   "cell_type": "code",
   "execution_count": 53,
   "id": "7e2ea48b-e869-4c11-9c33-ba8629350efb",
   "metadata": {},
   "outputs": [
    {
     "name": "stdout",
     "output_type": "stream",
     "text": [
      "Índice: 0, Valor: a\n",
      "Índice: 1, Valor: b\n",
      "Índice: 2, Valor: c\n",
      "Índice: 3, Valor: d\n"
     ]
    }
   ],
   "source": [
    "# Iterar e manipular a chave e o valor\n",
    "tupla = (\"a\", \"b\", \"c\", \"d\")\n",
    "\n",
    "for indice, valor in enumerate(tupla):\n",
    "    print(f\"Índice: {indice}, Valor: {valor}\")"
   ]
  },
  {
   "cell_type": "code",
   "execution_count": 54,
   "id": "91fb2633-71af-4c4b-8a60-6ae7495e831e",
   "metadata": {},
   "outputs": [
    {
     "name": "stdout",
     "output_type": "stream",
     "text": [
      "5\n",
      "10\n",
      "15\n"
     ]
    }
   ],
   "source": [
    "# Iterar com while\n",
    "tupla = (5, 10, 15)\n",
    "i = 0\n",
    "\n",
    "while i < len(tupla):\n",
    "    print(tupla[i])\n",
    "    i += 1"
   ]
  },
  {
   "cell_type": "markdown",
   "id": "5859739c-377d-4b6c-82fb-fc6601ae0782",
   "metadata": {},
   "source": [
    "# Orientação a Objetos"
   ]
  },
  {
   "cell_type": "markdown",
   "id": "fb98ed4b-23af-4ddf-bd1d-ad3d84e19486",
   "metadata": {},
   "source": [
    "## Classes e Objetos"
   ]
  },
  {
   "cell_type": "code",
   "execution_count": 70,
   "id": "02a7eabd-5df8-469c-9f9f-d9d2173ac589",
   "metadata": {},
   "outputs": [],
   "source": [
    "# Classe Pessoa\n",
    "class Pessoa:\n",
    "    \n",
    "    # É o construtor da classe. É chamado automaticamente ao criar um objeto e inicializa os atributos.\n",
    "    # self – Referência ao próprio objeto (é obrigatório como primeiro parâmetro em métodos de instância).\n",
    "    def __init__(self, nome, idade):\n",
    "        self.nome = nome  # Atributo de instância\n",
    "        self.idade = idade  # Atributo de instância\n",
    "\n",
    "    # Método\n",
    "    def apresentar(self):  # Método de instância\n",
    "        print(f\"Olá, meu nome é {self.nome} e tenho {self.idade} anos.\")"
   ]
  },
  {
   "cell_type": "code",
   "execution_count": 61,
   "id": "c2fe7804-a477-48ab-a44e-518caa600330",
   "metadata": {},
   "outputs": [
    {
     "name": "stdout",
     "output_type": "stream",
     "text": [
      "Olá, meu nome é Ana e tenho 25 anos.\n",
      "Olá, meu nome é João e tenho 30 anos.\n"
     ]
    }
   ],
   "source": [
    "# Criando objetos da classe Pessoa\n",
    "pessoa1 = Pessoa(\"Ana\", 25)\n",
    "pessoa2 = Pessoa(\"João\", 30)\n",
    "\n",
    "# Chamando o método apresentar\n",
    "pessoa1.apresentar()  # Saída: Olá, meu nome é Ana e tenho 25 anos.\n",
    "pessoa2.apresentar()  # Saída: Olá, meu nome é João e tenho 30 anos."
   ]
  },
  {
   "cell_type": "code",
   "execution_count": 62,
   "id": "c0a37d05-6020-42e5-98a4-43edd5b252ff",
   "metadata": {},
   "outputs": [
    {
     "name": "stdout",
     "output_type": "stream",
     "text": [
      "Ana\n",
      "30\n",
      "Olá, meu nome é Ana e tenho 25 anos.\n"
     ]
    }
   ],
   "source": [
    "# Acessando atributos e métodos\n",
    "print(pessoa1.nome)  # Saída: Ana\n",
    "print(pessoa2.idade)  # Saída: 30\n",
    "pessoa1.apresentar()  # Saída: Olá, meu nome é Ana e tenho 25 anos."
   ]
  },
  {
   "cell_type": "code",
   "execution_count": 64,
   "id": "a0c06fcc-57db-4134-aa4e-efb2b5f35b04",
   "metadata": {},
   "outputs": [],
   "source": [
    "# Declarar uma classe com atributos e sem construtor\n",
    "class Pessoa:\n",
    "    nome = \"Desconhecido\"\n",
    "    idade = 0\n",
    "\n",
    "    # Método\n",
    "    def apresentar(self):  # Método de instância\n",
    "        print(f\"Olá, meu nome é {self.nome} e tenho {self.idade} anos.\")"
   ]
  },
  {
   "cell_type": "code",
   "execution_count": 68,
   "id": "32b093ff-a4b9-4c35-aabc-531d131e9847",
   "metadata": {},
   "outputs": [
    {
     "name": "stdout",
     "output_type": "stream",
     "text": [
      "Desconhecido\n",
      "0\n",
      "Olá, meu nome é Desconhecido e tenho 0 anos.\n"
     ]
    }
   ],
   "source": [
    "p1 = Pessoa()\n",
    "p2 = Pessoa()\n",
    "\n",
    "print(p1.nome)  # Saída: Desconhecido\n",
    "print(p2.idade)  # Saída: 0\n",
    "\n",
    "p1.apresentar() # Olá, meu nome é Desconhecido e tenho 0 anos."
   ]
  },
  {
   "cell_type": "code",
   "execution_count": 69,
   "id": "0af1966a-0639-4dac-9460-0f2d9e99c48f",
   "metadata": {},
   "outputs": [
    {
     "name": "stdout",
     "output_type": "stream",
     "text": [
      "Nome: Ana, Idade: 25\n",
      "Nome: João, Idade: 30\n"
     ]
    }
   ],
   "source": [
    "# Alterando os atributos nas instâncias\n",
    "p1.nome = \"Ana\"\n",
    "p1.idade = 25\n",
    "\n",
    "p2.nome = \"João\"\n",
    "p2.idade = 30\n",
    "\n",
    "print(f\"Nome: {p1.nome}, Idade: {p1.idade}\")  # Saída: Nome: Ana, Idade: 25\n",
    "print(f\"Nome: {p2.nome}, Idade: {p2.idade}\")  # Saída: Nome: João, Idade: 30"
   ]
  },
  {
   "cell_type": "markdown",
   "id": "6dbf186a-a992-4710-9cfe-ea3c32e994d1",
   "metadata": {},
   "source": [
    "## Modificadores de Acesso\n",
    "Em Python, a visibilidade de atributos e métodos é controlada por convenções de nomenclatura, já que a linguagem não possui modificadores explícitos como public, private ou protected (presentes em outras linguagens como Java ou C++).\n",
    "\n",
    "| Tipo         | Notação      | Acessível fora da classe?     |\n",
    "|--------------|--------------|-------------------------------|\n",
    "| Público | `nome` | Sim |\n",
    "| Protegido  | `_nome`  | Sim |\n",
    "| Privado    | `__nome`  | Não acessível diretamente |"
   ]
  },
  {
   "cell_type": "code",
   "execution_count": 72,
   "id": "bfb63ccb-42bb-4500-8c15-47f6edbd3bb4",
   "metadata": {},
   "outputs": [
    {
     "name": "stdout",
     "output_type": "stream",
     "text": [
      "Ana\n",
      "Olá, eu sou Ana\n"
     ]
    }
   ],
   "source": [
    "# Atributo e método protegidos\n",
    "class Pessoa:\n",
    "    def __init__(self, nome):\n",
    "        self._nome = nome  # Atributo protegido\n",
    "\n",
    "    def _apresentar(self):  # Método protegido\n",
    "        print(f\"Olá, eu sou {self._nome}\")\n",
    "\n",
    "# Embora seja acessível, o uso direto não é recomendado\n",
    "p = Pessoa(\"Ana\")\n",
    "print(p._nome)  # Saída: Ana\n",
    "p._apresentar()  # Saída: Olá, eu sou Ana"
   ]
  },
  {
   "cell_type": "code",
   "execution_count": 77,
   "id": "7f6406c9-ee1e-4ce9-830f-6529826dce74",
   "metadata": {},
   "outputs": [],
   "source": [
    "class Pessoa:\n",
    "    def __init__(self, nome):\n",
    "        self.__nome = nome  # Atributo privado\n",
    "\n",
    "    def __apresentar(self):  # Método privado\n",
    "        print(f\"Olá, eu sou {self.__nome}\")\n",
    "\n",
    "p = Pessoa(\"Ana\")\n",
    "\n",
    "# Tentativa de acesso direto gera erro\n",
    "# print(p.__nome)  # AttributeError\n",
    "# p.__apresentar()\n",
    "\n",
    "# Acesso indireto via name mangling\n",
    "# print(p._Pessoa__nome)  # Saída: Ana\n",
    "# p._Pessoa__apresentar()  # Saída: Olá, eu sou Ana"
   ]
  },
  {
   "cell_type": "markdown",
   "id": "97547ee7-f9ab-4049-804d-2a864ebb330b",
   "metadata": {},
   "source": [
    "##### Exemplo 1"
   ]
  },
  {
   "cell_type": "code",
   "execution_count": 112,
   "id": "90edc9f0-a5a8-4a0e-84c2-e3b5eef6de96",
   "metadata": {},
   "outputs": [],
   "source": [
    "class Pessoa:\n",
    "    __nome:str\n",
    "    __mae:Pessoa\n",
    "\n",
    "    def setNome(self, nome):\n",
    "        self.__nome = nome\n",
    "\n",
    "    def getNome(self):\n",
    "        return self.__nome\n",
    "\n",
    "    def setMae(self, mae:Pessoa):\n",
    "        self.__mae = mae\n",
    "    \n",
    "    def getMae(self):\n",
    "        return self.__mae"
   ]
  },
  {
   "cell_type": "code",
   "execution_count": 116,
   "id": "e4f0d03d-1fe0-4fcf-9a9e-133b82c0a876",
   "metadata": {},
   "outputs": [
    {
     "name": "stdout",
     "output_type": "stream",
     "text": [
      "Maria das Flores\n",
      "José das Couves\n",
      "Maria das Flores\n"
     ]
    }
   ],
   "source": [
    "p1 = Pessoa()\n",
    "p1.setNome(\"Maria das Flores\")\n",
    "print(p1.getNome())\n",
    "\n",
    "p2 = Pessoa()\n",
    "p2.setNome(\"José das Couves\")\n",
    "print(p2.getNome())\n",
    "\n",
    "p2.setMae(p1)\n",
    "print(p2.getMae().getNome())"
   ]
  },
  {
   "cell_type": "markdown",
   "id": "b9731ce6-d442-4a99-87e1-3e7646a4c796",
   "metadata": {},
   "source": [
    "##### Exemplo 2"
   ]
  },
  {
   "cell_type": "code",
   "execution_count": 131,
   "id": "29f9d7d6-1225-44b9-9dd2-18a3c0b7223d",
   "metadata": {},
   "outputs": [],
   "source": [
    "class Pessoa:\n",
    "    def __init__(self, nome, mae):\n",
    "        self.nome = nome\n",
    "        self.mae = mae"
   ]
  },
  {
   "cell_type": "code",
   "execution_count": 132,
   "id": "bb6ccc01-7dd0-4fd3-a7e7-4c83f596a9ee",
   "metadata": {},
   "outputs": [
    {
     "name": "stdout",
     "output_type": "stream",
     "text": [
      "Maria das Flores\n",
      "\n",
      "José das Couves\n",
      "Maria das Flores\n"
     ]
    }
   ],
   "source": [
    "p1 = Pessoa(\"Maria das Flores\", \"\")\n",
    "print(p1.nome)\n",
    "print(p1.mae) # retorna vazio\n",
    "\n",
    "p2 = Pessoa(\"José das Couves\" , p1)\n",
    "print(p2.nome)\n",
    "print(p2.mae.nome)"
   ]
  },
  {
   "cell_type": "markdown",
   "id": "29453bd3-0638-4c28-8e64-72993fcd1a85",
   "metadata": {},
   "source": [
    "##### Exemplo 3"
   ]
  },
  {
   "cell_type": "code",
   "execution_count": 153,
   "id": "95a42435-d33d-4df3-8d3d-d19609e6d710",
   "metadata": {},
   "outputs": [],
   "source": [
    "class Pessoa:\n",
    "    def __init__(self, nome, filhos:[]):\n",
    "        self.nome = nome\n",
    "        self.filhos = filhos"
   ]
  },
  {
   "cell_type": "code",
   "execution_count": 157,
   "id": "7ac9fef0-ca34-41a4-956b-644a914091a3",
   "metadata": {},
   "outputs": [
    {
     "name": "stdout",
     "output_type": "stream",
     "text": [
      "José das Couves\n",
      "Maria das Flores\n"
     ]
    }
   ],
   "source": [
    "p1 = Pessoa(\"José das Couves\", [])\n",
    "p2 = Pessoa(\"Maria das Flores\", [])\n",
    "p3 = Pessoa(\"Ana São Paulo\", [p1, p2])\n",
    "\n",
    "for filho in p3.filhos:\n",
    "    print(filho.nome)"
   ]
  },
  {
   "cell_type": "markdown",
   "id": "38adfe63-a2c4-4f34-bac5-39ec9b229271",
   "metadata": {},
   "source": [
    "## Herança"
   ]
  },
  {
   "cell_type": "code",
   "execution_count": 158,
   "id": "8ee7c883-165a-4367-adc2-612690a4cc88",
   "metadata": {},
   "outputs": [],
   "source": [
    "class Pessoa:\n",
    "    def __init__(self, nome, idade):\n",
    "        self.nome = nome\n",
    "        self.idade = idade\n",
    "\n",
    "    def apresentar(self):\n",
    "        print(f\"Olá, meu nome é {self.nome} e tenho {self.idade} anos.\")"
   ]
  },
  {
   "cell_type": "code",
   "execution_count": 159,
   "id": "eb768ddf-9565-4819-bc04-d87449f1b0fa",
   "metadata": {},
   "outputs": [],
   "source": [
    "# Classe Aluno herda da classe Pessoa\n",
    "class Aluno(Pessoa):\n",
    "    def __init__(self, nome, idade, matricula):\n",
    "        super().__init__(nome, idade)  # Chama o construtor da classe pai\n",
    "        self.matricula = matricula\n",
    "\n",
    "    def apresentar(self):  # Sobrescrita de método\n",
    "        super().apresentar()  # Chama o método da classe pai\n",
    "        print(f\"Minha matrícula é {self.matricula}.\")"
   ]
  },
  {
   "cell_type": "code",
   "execution_count": 160,
   "id": "b3ae996f-326f-4daf-b20d-02bc3908467e",
   "metadata": {},
   "outputs": [
    {
     "name": "stdout",
     "output_type": "stream",
     "text": [
      "Olá, meu nome é Ana e tenho 20 anos.\n",
      "Minha matrícula é 12345.\n"
     ]
    }
   ],
   "source": [
    "aluno = Aluno(\"Ana\", 20, \"12345\")\n",
    "aluno.apresentar()"
   ]
  },
  {
   "cell_type": "markdown",
   "id": "7e7f0f24-8bb1-482d-959c-a3be165a1092",
   "metadata": {},
   "source": [
    "## Polimorfismo"
   ]
  },
  {
   "cell_type": "code",
   "execution_count": 162,
   "id": "609f60bd-4a4b-4497-9639-711a51c6a74d",
   "metadata": {},
   "outputs": [
    {
     "name": "stdout",
     "output_type": "stream",
     "text": [
      "O carro está andando\n",
      "A bicicleta está pedalando\n"
     ]
    }
   ],
   "source": [
    "class Veiculo:\n",
    "    def mover(self):\n",
    "        print(\"O veículo está se movendo\")\n",
    "\n",
    "class Carro(Veiculo):\n",
    "    def mover(self):\n",
    "        print(\"O carro está andando\")\n",
    "\n",
    "class Bicicleta(Veiculo):\n",
    "    def mover(self):\n",
    "        print(\"A bicicleta está pedalando\")\n",
    "\n",
    "# Usando polimorfismo com herança\n",
    "veiculos = [Carro(), Bicicleta()]\n",
    "\n",
    "for veiculo in veiculos:\n",
    "    veiculo.mover()"
   ]
  },
  {
   "cell_type": "markdown",
   "id": "93583d75-c56c-4d08-8f9d-0f8790e85914",
   "metadata": {},
   "source": [
    "# Import\n",
    "A palavra-chave import é usada em Python para reutilizar código de outros módulos, bibliotecas ou arquivos. Um módulo em Python é qualquer arquivo que contém código Python (com extensão .py), e a instrução import permite trazer funções, classes ou variáveis desse módulo para o arquivo atual.\n",
    "\n",
    "`import nome_do_modulo`"
   ]
  },
  {
   "cell_type": "code",
   "execution_count": 163,
   "id": "1d20144b-5bb4-445c-9d05-c389475e40ba",
   "metadata": {},
   "outputs": [
    {
     "name": "stdout",
     "output_type": "stream",
     "text": [
      "4.0\n"
     ]
    }
   ],
   "source": [
    "# Importando um módulo completo\n",
    "import math  # Importa o módulo math, que contém funções matemáticas\n",
    "\n",
    "resultado = math.sqrt(16)  # Usa a função sqrt() do módulo math\n",
    "print(resultado)  # Saída: 4.0"
   ]
  },
  {
   "cell_type": "code",
   "execution_count": 164,
   "id": "09901ce9-ae3c-4ea6-8390-7c66e8891c25",
   "metadata": {},
   "outputs": [
    {
     "name": "stdout",
     "output_type": "stream",
     "text": [
      "5.0\n",
      "3.141592653589793\n"
     ]
    }
   ],
   "source": [
    "# Importando apenas elementos específicos do módulo\n",
    "from math import sqrt, pi  # Importa apenas sqrt e pi do módulo math\n",
    "\n",
    "print(sqrt(25))  # Saída: 5.0\n",
    "print(pi)        # Saída: 3.141592653589793"
   ]
  },
  {
   "cell_type": "code",
   "execution_count": 165,
   "id": "75135abc-e6c1-462e-9465-31d3c584a3a2",
   "metadata": {},
   "outputs": [
    {
     "name": "stdout",
     "output_type": "stream",
     "text": [
      "3.0\n"
     ]
    }
   ],
   "source": [
    "# Importando com um alias (nome alternativo)\n",
    "import math as m  # Importa o módulo math com o alias \"m\"\n",
    "\n",
    "print(m.sqrt(9))  # Saída: 3.0"
   ]
  },
  {
   "cell_type": "markdown",
   "id": "b6a3e555-a1fe-44c9-9a9a-36da356d3a60",
   "metadata": {},
   "source": [
    "# Números Complexos\n",
    "Em Python, números complexos são suportados de forma nativa e podem ser manipulados facilmente. Um número complexo é representado na forma a + bj, onde:\n",
    "- `a` é a parte real.\n",
    "- `b` é a parte imaginária.\n",
    "- `j` é a unidade imaginária"
   ]
  },
  {
   "cell_type": "code",
   "execution_count": 166,
   "id": "9beb3d9d-8cd9-4109-908e-facd45cd5962",
   "metadata": {},
   "outputs": [
    {
     "name": "stdout",
     "output_type": "stream",
     "text": [
      "(3+4j)\n",
      "(1-2j)\n"
     ]
    }
   ],
   "source": [
    "# Usando a notação a + bj diretamente\n",
    "z1 = 3 + 4j\n",
    "z2 = 1 - 2j\n",
    "\n",
    "print(z1)  # Saída: (3+4j)\n",
    "print(z2)  # Saída: (1-2j)"
   ]
  },
  {
   "cell_type": "code",
   "execution_count": 167,
   "id": "a6f7cc0e-34c6-4386-a5bc-d23ca9fc6845",
   "metadata": {},
   "outputs": [
    {
     "name": "stdout",
     "output_type": "stream",
     "text": [
      "3.0\n",
      "4.0\n"
     ]
    }
   ],
   "source": [
    "# Acessando partes real e imaginária\n",
    "z = 3 + 4j\n",
    "print(z.real)  # Saída: 3.0 (parte real)\n",
    "print(z.imag)  # Saída: 4.0 (parte imaginária)"
   ]
  },
  {
   "cell_type": "markdown",
   "id": "a1accbe7-5dc6-4cb1-9bfe-aeac23a0c753",
   "metadata": {},
   "source": [
    "## Operações"
   ]
  },
  {
   "cell_type": "code",
   "execution_count": 168,
   "id": "2d0935e1-c4ab-4d16-97b1-d7f406193000",
   "metadata": {},
   "outputs": [
    {
     "name": "stdout",
     "output_type": "stream",
     "text": [
      "(4+2j)\n",
      "(2+6j)\n"
     ]
    }
   ],
   "source": [
    "# Adição e subtração\n",
    "z1 = 3 + 4j\n",
    "z2 = 1 - 2j\n",
    "\n",
    "print(z1 + z2)  # Saída: (4+2j)\n",
    "print(z1 - z2)  # Saída: (2+6j)"
   ]
  },
  {
   "cell_type": "code",
   "execution_count": 169,
   "id": "b6ffaabf-a59d-4046-a1ac-2ae2ef918bba",
   "metadata": {},
   "outputs": [
    {
     "name": "stdout",
     "output_type": "stream",
     "text": [
      "(11-2j)\n",
      "(-1+2j)\n"
     ]
    }
   ],
   "source": [
    "# Multiplicação e divisão\n",
    "print(z1 * z2)  # Saída: (11-2j)\n",
    "print(z1 / z2)  # Saída: (-1+2j)"
   ]
  },
  {
   "cell_type": "code",
   "execution_count": 170,
   "id": "9813acdc-dc1d-4a51-99e6-730ce546ca1b",
   "metadata": {},
   "outputs": [
    {
     "name": "stdout",
     "output_type": "stream",
     "text": [
      "5.0\n"
     ]
    }
   ],
   "source": [
    "# Módulo de um número complexo\n",
    "z = 3 + 4j\n",
    "print(abs(z))  # Saída: 5.0 (pois √(3² + 4²) = 5)"
   ]
  },
  {
   "cell_type": "code",
   "execution_count": 171,
   "id": "85647d5a-1872-4008-bf1b-2cc48993e842",
   "metadata": {},
   "outputs": [
    {
     "name": "stdout",
     "output_type": "stream",
     "text": [
      "(3-4j)\n"
     ]
    }
   ],
   "source": [
    "# Conjugado de um número complexo (troca o sinal da parte imaginária)\n",
    "z = 3 + 4j\n",
    "print(z.conjugate())  # Saída: (3-4j)"
   ]
  },
  {
   "cell_type": "markdown",
   "id": "26797bd1-cf78-42b2-b9ea-ba1887a69484",
   "metadata": {},
   "source": [
    "# Matrizes\n",
    "Em Python, a forma mais simples de representar uma matriz é usando listas aninhadas, onde cada lista interna representa uma linha da matriz."
   ]
  },
  {
   "cell_type": "code",
   "execution_count": 172,
   "id": "49672ad8-982b-4695-a2ab-599ce96eed16",
   "metadata": {},
   "outputs": [
    {
     "name": "stdout",
     "output_type": "stream",
     "text": [
      "[[1, 2, 3], [4, 5, 6], [7, 8, 9]]\n"
     ]
    }
   ],
   "source": [
    "# Matriz 3x3 representada por listas de listas\n",
    "matriz = [\n",
    "    [1, 2, 3],  # Linha 1\n",
    "    [4, 5, 6],  # Linha 2\n",
    "    [7, 8, 9]   # Linha 3\n",
    "]\n",
    "\n",
    "print(matriz)  # Saída: [[1, 2, 3], [4, 5, 6], [7, 8, 9]]"
   ]
  },
  {
   "cell_type": "code",
   "execution_count": 173,
   "id": "e865f990-d637-4db7-9f52-8eca34705a7c",
   "metadata": {},
   "outputs": [
    {
     "name": "stdout",
     "output_type": "stream",
     "text": [
      "2\n",
      "9\n"
     ]
    }
   ],
   "source": [
    "# Acessando elementos de uma matriz\n",
    "print(matriz[0][1])  # Saída: 2 (elemento na linha 0, coluna 1)\n",
    "print(matriz[2][2])  # Saída: 9 (elemento na linha 2, coluna 2)"
   ]
  },
  {
   "cell_type": "code",
   "execution_count": 174,
   "id": "c9db3cea-5e01-4fab-972d-648d55a840bb",
   "metadata": {},
   "outputs": [
    {
     "name": "stdout",
     "output_type": "stream",
     "text": [
      "[1, 2, 3]\n",
      "[4, 5, 6]\n",
      "[7, 8, 9]\n"
     ]
    }
   ],
   "source": [
    "# Percorrendo a matriz por linhas\n",
    "for linha in matriz:\n",
    "    print(linha)"
   ]
  },
  {
   "cell_type": "code",
   "execution_count": 175,
   "id": "7e878cd4-75cc-4930-876c-951fc1bbf761",
   "metadata": {},
   "outputs": [
    {
     "name": "stdout",
     "output_type": "stream",
     "text": [
      "1 2 3 4 5 6 7 8 9 "
     ]
    }
   ],
   "source": [
    "# Percorrendo todos os elementos individualmente\n",
    "for linha in matriz:\n",
    "    for elemento in linha:\n",
    "        print(elemento, end=\" \")"
   ]
  },
  {
   "cell_type": "markdown",
   "id": "2b057d82-0bd5-4314-90a5-17c1d867b171",
   "metadata": {},
   "source": [
    "#### Usando a biblioteca NumPy"
   ]
  },
  {
   "cell_type": "code",
   "execution_count": 177,
   "id": "e78f60fd-89ba-4698-8a85-c8161553e3fe",
   "metadata": {},
   "outputs": [
    {
     "name": "stdout",
     "output_type": "stream",
     "text": [
      "[[1 2 3]\n",
      " [4 5 6]\n",
      " [7 8 9]]\n"
     ]
    }
   ],
   "source": [
    "import numpy as np\n",
    "\n",
    "# Criando uma matriz 3x3\n",
    "matriz = np.array([[1, 2, 3], [4, 5, 6], [7, 8, 9]])\n",
    "print(matriz)"
   ]
  },
  {
   "cell_type": "code",
   "execution_count": 178,
   "id": "688466d7-925e-4fc1-b358-46e8dcc95c5f",
   "metadata": {},
   "outputs": [
    {
     "name": "stdout",
     "output_type": "stream",
     "text": [
      "2\n",
      "9\n"
     ]
    }
   ],
   "source": [
    "# Acessando elementos\n",
    "print(matriz[0, 1])  # Saída: 2 (linha 0, coluna 1)\n",
    "print(matriz[2, 2])  # Saída: 9 (linha 2, coluna 2)"
   ]
  },
  {
   "cell_type": "code",
   "execution_count": 181,
   "id": "15ed39c2-19a9-4bef-8d23-9618b451e1e2",
   "metadata": {},
   "outputs": [
    {
     "name": "stdout",
     "output_type": "stream",
     "text": [
      "[[10 10 10]\n",
      " [10 10 10]\n",
      " [10 10 10]]\n"
     ]
    }
   ],
   "source": [
    "# Soma de duas matrizes com NumPy\n",
    "matriz1 = np.array([[1, 2, 3], [4, 5, 6], [7, 8, 9]])\n",
    "matriz2 = np.array([[9, 8, 7], [6, 5, 4], [3, 2, 1]])\n",
    "\n",
    "matriz_soma = matriz1 + matriz2\n",
    "print(matriz_soma)"
   ]
  },
  {
   "cell_type": "code",
   "execution_count": 180,
   "id": "bc735e55-2363-405b-b77d-71311f22ca4a",
   "metadata": {},
   "outputs": [
    {
     "name": "stdout",
     "output_type": "stream",
     "text": [
      "[[-8 -6 -4]\n",
      " [-2  0  2]\n",
      " [ 4  6  8]]\n"
     ]
    }
   ],
   "source": [
    "# Substração de duas matrizes com NumPy\n",
    "matriz1 = np.array([[1, 2, 3], [4, 5, 6], [7, 8, 9]])\n",
    "matriz2 = np.array([[9, 8, 7], [6, 5, 4], [3, 2, 1]])\n",
    "\n",
    "matriz_sub = matriz1 - matriz2\n",
    "print(matriz_sub)"
   ]
  },
  {
   "cell_type": "code",
   "execution_count": 183,
   "id": "bec3ca81-d978-4284-adac-20f67a8bbe8c",
   "metadata": {},
   "outputs": [
    {
     "name": "stdout",
     "output_type": "stream",
     "text": [
      "[[ 2  4  6]\n",
      " [ 8 10 12]\n",
      " [14 16 18]]\n"
     ]
    }
   ],
   "source": [
    "# Multiplicação por escalar\n",
    "matriz = np.array([[1, 2, 3], [4, 5, 6], [7, 8, 9]])\n",
    "mult_escalar = matriz * 2\n",
    "\n",
    "print(mult_escalar)"
   ]
  },
  {
   "cell_type": "code",
   "execution_count": 184,
   "id": "ba5be784-8aad-40ec-a993-cbf81685f200",
   "metadata": {},
   "outputs": [
    {
     "name": "stdout",
     "output_type": "stream",
     "text": [
      "[[ 30  24  18]\n",
      " [ 84  69  54]\n",
      " [138 114  90]]\n"
     ]
    }
   ],
   "source": [
    "# Multiplicação de matrizes \n",
    "matriz1 = np.array([[1, 2, 3], [4, 5, 6], [7, 8, 9]])\n",
    "matriz2 = np.array([[9, 8, 7], [6, 5, 4], [3, 2, 1]])\n",
    "\n",
    "matriz_mult = matriz1 @ matriz2\n",
    "print(matriz_mult)"
   ]
  },
  {
   "cell_type": "code",
   "execution_count": 206,
   "id": "c20133f7-476d-44d9-a12d-f1ea6d15086b",
   "metadata": {},
   "outputs": [
    {
     "name": "stdout",
     "output_type": "stream",
     "text": [
      "[[1.+0.j]\n",
      " [2.+0.j]\n",
      " [0.-3.j]]\n"
     ]
    }
   ],
   "source": [
    "# Transposição de matriz\n",
    "matriz = np.array([ [1,2,0-3j] ])\n",
    "matriz_transposta = matriz.T # ou matriz.transpose() ou np.transpose(matriz)\n",
    "\n",
    "print(matriz_transposta)"
   ]
  },
  {
   "cell_type": "code",
   "execution_count": 201,
   "id": "d43d07ed-b2d6-486b-b2b7-df8c5d032230",
   "metadata": {},
   "outputs": [
    {
     "name": "stdout",
     "output_type": "stream",
     "text": [
      "[[1.-0.j 2.-0.j 0.+3.j]]\n"
     ]
    }
   ],
   "source": [
    "# Conjugado\n",
    "matriz = np.array([ [1,2,0-3j] ])\n",
    "matriz_conj = matriz.conj() # ou np.conjugate(matriz) ou matriz.conj() ou matriz.conjugate()\n",
    "\n",
    "print(matriz_conj)"
   ]
  },
  {
   "cell_type": "code",
   "execution_count": 205,
   "id": "0101692e-0e51-449c-a051-ca57e62f2cb9",
   "metadata": {},
   "outputs": [
    {
     "name": "stdout",
     "output_type": "stream",
     "text": [
      "[[1.-0.j]\n",
      " [2.-0.j]\n",
      " [0.+3.j]]\n"
     ]
    }
   ],
   "source": [
    "# Transposto Conjugado\n",
    "matriz = np.array([ [1,2,0-3j] ]) # Atenção! Se colocar -3j o python vai entender que o - é a parte real. Por isso, deve-se informar o 0 caso não tenha parte real\n",
    "matriz_tc = matriz.T.conj()\n",
    "\n",
    "print(matriz_tc)"
   ]
  }
 ],
 "metadata": {
  "kernelspec": {
   "display_name": "Python 3 (ipykernel)",
   "language": "python",
   "name": "python3"
  },
  "language_info": {
   "codemirror_mode": {
    "name": "ipython",
    "version": 3
   },
   "file_extension": ".py",
   "mimetype": "text/x-python",
   "name": "python",
   "nbconvert_exporter": "python",
   "pygments_lexer": "ipython3",
   "version": "3.12.5"
  }
 },
 "nbformat": 4,
 "nbformat_minor": 5
}
