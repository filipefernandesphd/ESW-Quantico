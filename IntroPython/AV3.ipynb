{
 "cells": [
  {
   "cell_type": "markdown",
   "id": "f698cf9c-8fcc-4960-b18d-d3e02a53a9b2",
   "metadata": {},
   "source": [
    "# GABARITO AV3"
   ]
  },
  {
   "cell_type": "markdown",
   "id": "0f862417-1f52-41e7-b398-06d3c756e40a",
   "metadata": {},
   "source": [
    "## Questão 1 (0.4pts)\n",
    "\n",
    "Construa uma classe que retorne os valores de $\\ket{0}, \\ket{1}, I, X, Y$ e $Z$ como atributos. Além disso, implemente os seguintes métodos estáticos:\n",
    "- `tconj(a)`: deve fazer a operação de transposto conjugado e retornar um valor;\n",
    "- `tensor(a, b):` deve realizar a operação de produto tensorial e retornar um valor;\n",
    "- `times(a, b):` deve realizar a operação de multiplicação entre matrizes e retornar um valor;\n",
    "- `inpro(a, b):` deve realizar a operação de produto interno e e retornar um valor;\n",
    "- `outpro(a, b):` deve realizar a operação de produto externo e e retornar um valor;\n",
    "\n",
    "**ATENÇÃO!** Os nomes dos atributos e métodos **NÃO** devem ser alterados.\n",
    "\n",
    "#### Dica\n",
    "Para criar uma classe com métodos estáticos, ou seja, chamar os métodos sem instanciar um objeto, veja o exemplo abaixo:\n",
    "```\n",
    "class A:\n",
    "    @staticmethod\n",
    "    def nomeMetodo(x, y):\n",
    "        return x+y\n",
    "\n",
    "print(A.nomeMetodo())\n",
    "```\n"
   ]
  },
  {
   "cell_type": "code",
   "execution_count": null,
   "id": "84ffb2a0-59fa-4ac0-9ad4-7c2cd03e7727",
   "metadata": {},
   "outputs": [],
   "source": []
  },
  {
   "cell_type": "markdown",
   "id": "38575d53-06c6-43dd-8552-12332f417a93",
   "metadata": {},
   "source": [
    "## Questão 2 (0.6pts)\n",
    "\n",
    "Resolva a equação abaixo implementando a função `resolucao()` usando sua classe implementada acima.\n",
    "\n",
    "$(\\braket{1|1}) \\otimes (H \\cdot X \\ket{1})$"
   ]
  },
  {
   "cell_type": "code",
   "execution_count": 4,
   "id": "7cd82562-d74a-4d09-b27e-d40a9681ea0d",
   "metadata": {},
   "outputs": [],
   "source": [
    "def resolucao():\n",
    "    return \"\""
   ]
  },
  {
   "cell_type": "code",
   "execution_count": 3,
   "id": "4331d925-085f-4e24-a1b1-660aaf354439",
   "metadata": {},
   "outputs": [
    {
     "data": {
      "text/plain": [
       "''"
      ]
     },
     "execution_count": 3,
     "metadata": {},
     "output_type": "execute_result"
    }
   ],
   "source": [
    "resolucao()"
   ]
  },
  {
   "cell_type": "markdown",
   "id": "ece09b4f-b094-41b7-ae5d-ad32c82c3a89",
   "metadata": {},
   "source": [
    "## Considerações Finais\n",
    "\n",
    "Ao terminar, salve este notebook com seu nome e chame o professor para copiar seu arquivo."
   ]
  }
 ],
 "metadata": {
  "kernelspec": {
   "display_name": "Python 3 (ipykernel)",
   "language": "python",
   "name": "python3"
  },
  "language_info": {
   "codemirror_mode": {
    "name": "ipython",
    "version": 3
   },
   "file_extension": ".py",
   "mimetype": "text/x-python",
   "name": "python",
   "nbconvert_exporter": "python",
   "pygments_lexer": "ipython3",
   "version": "3.12.5"
  }
 },
 "nbformat": 4,
 "nbformat_minor": 5
}
