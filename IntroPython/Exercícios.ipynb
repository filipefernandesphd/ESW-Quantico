{
 "cells": [
  {
   "cell_type": "markdown",
   "id": "08879060-1a89-459a-92ed-5d9a0f6300d0",
   "metadata": {},
   "source": [
    "# Exercícios\n",
    "Escreva o código em python de cada equação abaixo: (são as mesmas da questão 12 da apostila)"
   ]
  },
  {
   "cell_type": "markdown",
   "id": "5b242f61-cbd3-4d75-bf20-93eec120c53a",
   "metadata": {},
   "source": [
    "a) $\\ket{\\psi} =  \\langle 0 | H | 1 \\rangle$"
   ]
  },
  {
   "cell_type": "markdown",
   "id": "625ef62b-627e-46d4-a287-e11ba75e2567",
   "metadata": {},
   "source": [
    "b) $\\ket{\\psi} = |1\\rangle \\langle 0| \\cdot X \\cdot |0\\rangle$"
   ]
  },
  {
   "cell_type": "markdown",
   "id": "bb50d263-d9a5-4972-8827-6b61650ba63d",
   "metadata": {},
   "source": [
    "c) $|\\psi\\rangle = |+\\rangle \\otimes |-\\rangle\\$"
   ]
  },
  {
   "cell_type": "markdown",
   "id": "6a464a68-9a76-4adb-93bf-c79f1a64b30f",
   "metadata": {},
   "source": [
    "d) $|\\psi\\rangle = H \\cdot Z \\cdot |0\\rangle$"
   ]
  },
  {
   "cell_type": "markdown",
   "id": "4da3a9a6-b765-4eee-a443-6a182d417254",
   "metadata": {},
   "source": [
    "e) $|\\psi\\rangle = X \\cdot H \\cdot |1\\rangle\\$"
   ]
  },
  {
   "cell_type": "markdown",
   "id": "0ac83d75-1765-42b9-885c-deab18a9a41e",
   "metadata": {},
   "source": [
    "f) $|\\psi\\rangle = Y \\cdot |0\\rangle \\langle 1 | 0 \\rangle\\$"
   ]
  },
  {
   "cell_type": "markdown",
   "id": "a9627322-5b99-496d-85aa-af1fe352c260",
   "metadata": {},
   "source": [
    "g) $|\\psi\\rangle = (H \\otimes I) \\cdot (|0\\rangle \\otimes |1\\rangle)$"
   ]
  },
  {
   "cell_type": "markdown",
   "id": "ba0d095c-cfcd-4e6e-9a47-5b3b2ec36386",
   "metadata": {},
   "source": [
    "h) $|\\psi\\rangle = Z \\cdot H \\cdot Z \\cdot |1\\rangle$"
   ]
  },
  {
   "cell_type": "markdown",
   "id": "7162a70f-b647-48f3-ba34-2b4290729034",
   "metadata": {},
   "source": [
    "i) $\\ket{\\psi} = \\bra{1} \\cdot H \\cdot |0\\rangle \\cdot |1\\rangle \\langle 0|$"
   ]
  },
  {
   "cell_type": "markdown",
   "id": "9818a686-1318-4ed9-817b-ec800d8e1085",
   "metadata": {},
   "source": [
    "j) $|\\psi\\rangle = |1\\rangle \\langle 1| \\cdot Z \\cdot |0\\rangle$"
   ]
  }
 ],
 "metadata": {
  "kernelspec": {
   "display_name": "Python 3 (ipykernel)",
   "language": "python",
   "name": "python3"
  },
  "language_info": {
   "codemirror_mode": {
    "name": "ipython",
    "version": 3
   },
   "file_extension": ".py",
   "mimetype": "text/x-python",
   "name": "python",
   "nbconvert_exporter": "python",
   "pygments_lexer": "ipython3",
   "version": "3.12.5"
  }
 },
 "nbformat": 4,
 "nbformat_minor": 5
}
