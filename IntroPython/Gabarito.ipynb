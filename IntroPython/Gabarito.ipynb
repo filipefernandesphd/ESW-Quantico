{
 "cells": [
  {
   "cell_type": "markdown",
   "id": "08879060-1a89-459a-92ed-5d9a0f6300d0",
   "metadata": {},
   "source": [
    "# Gabarito\n",
    "Escreva o código de cada equação abaixo: (são as mesmas da questão 12 )"
   ]
  },
  {
   "cell_type": "markdown",
   "id": "5b242f61-cbd3-4d75-bf20-93eec120c53a",
   "metadata": {},
   "source": [
    "a) $\\ket{\\psi} =  \\langle 0 | H | 1 \\rangle$"
   ]
  },
  {
   "cell_type": "code",
   "execution_count": 2,
   "id": "a049b388-8034-4f73-8103-6d12f4c6757d",
   "metadata": {},
   "outputs": [
    {
     "name": "stdout",
     "output_type": "stream",
     "text": [
      "<0| H |1> = 0.7071067811865475\n"
     ]
    }
   ],
   "source": [
    "import numpy as np \n",
    "\n",
    "# Definindo os vetores de estado |0> e |1>\n",
    "ket_0 = np.array([1, 0])  # |0>\n",
    "ket_1 = np.array([0, 1])  # |1>\n",
    "\n",
    "# Definindo a porta de Hadamard H\n",
    "H = (1 / np.sqrt(2)) * np.array([[1, 1],\n",
    "                                 [1, -1]])\n",
    "\n",
    "# Calculando H |1>\n",
    "H_ket_1 = np.dot(H, ket_1)\n",
    "\n",
    "# Calculando <0| H |1> (produto interno <0| com H |1>)\n",
    "resultado = np.dot(ket_0.conj().T, H_ket_1)\n",
    "\n",
    "print(\"<0| H |1> =\", resultado)"
   ]
  },
  {
   "cell_type": "markdown",
   "id": "625ef62b-627e-46d4-a287-e11ba75e2567",
   "metadata": {},
   "source": [
    "b) $\\ket{\\psi} = |1\\rangle \\langle 0| \\cdot X \\cdot |0\\rangle$"
   ]
  },
  {
   "cell_type": "code",
   "execution_count": 1,
   "id": "66b6075c-f46d-4cb9-8c19-90ff1f27debb",
   "metadata": {},
   "outputs": [
    {
     "name": "stdout",
     "output_type": "stream",
     "text": [
      "|1><0| X |0> = [0 0]\n"
     ]
    }
   ],
   "source": [
    "import numpy as np\n",
    "\n",
    "# Definindo os vetores de estado |0> e |1>\n",
    "ket_0 = np.array([1, 0])  # |0>\n",
    "ket_1 = np.array([0, 1])  # |1>\n",
    "\n",
    "# Definindo o operador |1><0| como uma matriz\n",
    "proj_1_0 = np.outer(ket_1, ket_0)  # |1><0| = [[0, 0], [1, 0]]\n",
    "\n",
    "# Definindo a porta Pauli-X\n",
    "X = np.array([[0, 1],\n",
    "              [1, 0]])\n",
    "\n",
    "# Calculando X |0>\n",
    "X_ket_0 = np.dot(X, ket_0)\n",
    "\n",
    "# Calculando |1><0| X |0>\n",
    "resultado = np.dot(proj_1_0, X_ket_0)\n",
    "\n",
    "print(\"|1><0| X |0> =\", resultado)"
   ]
  },
  {
   "cell_type": "markdown",
   "id": "bb50d263-d9a5-4972-8827-6b61650ba63d",
   "metadata": {},
   "source": [
    "c) $|\\psi\\rangle = |+\\rangle \\otimes |-\\rangle\\$"
   ]
  },
  {
   "cell_type": "code",
   "execution_count": 3,
   "id": "2b94829d-2a7d-4755-a532-900dd494232d",
   "metadata": {},
   "outputs": [
    {
     "name": "stdout",
     "output_type": "stream",
     "text": [
      "|ψ> = [ 0.5 -0.5  0.5 -0.5]\n"
     ]
    }
   ],
   "source": [
    "import numpy as np\n",
    "\n",
    "# Definindo os estados |+> e |->\n",
    "ket_plus = (1 / np.sqrt(2)) * np.array([1, 1])  # |+>\n",
    "ket_minus = (1 / np.sqrt(2)) * np.array([1, -1])  # |->\n",
    "\n",
    "# Calculando o produto tensorial |ψ> = |+> ⊗ |->\n",
    "psi = np.kron(ket_plus, ket_minus)\n",
    "\n",
    "print(\"|ψ> =\", psi)"
   ]
  },
  {
   "cell_type": "markdown",
   "id": "6a464a68-9a76-4adb-93bf-c79f1a64b30f",
   "metadata": {},
   "source": [
    "d) $|\\psi\\rangle = H \\cdot Z \\cdot |0\\rangle$"
   ]
  },
  {
   "cell_type": "code",
   "execution_count": 4,
   "id": "267a4e7f-4428-4c22-96c8-6ac6892712f8",
   "metadata": {},
   "outputs": [
    {
     "name": "stdout",
     "output_type": "stream",
     "text": [
      "|ψ> = [0.70710678 0.70710678]\n"
     ]
    }
   ],
   "source": [
    "import numpy as np\n",
    "\n",
    "# Definindo o estado |0>\n",
    "ket_0 = np.array([1, 0])\n",
    "\n",
    "# Definindo a porta Pauli-Z\n",
    "Z = np.array([[1, 0],\n",
    "              [0, -1]])\n",
    "\n",
    "# Definindo a porta de Hadamard H\n",
    "H = (1 / np.sqrt(2)) * np.array([[1, 1],\n",
    "                                 [1, -1]])\n",
    "\n",
    "# Calculando Z |0>\n",
    "Z_ket_0 = np.dot(Z, ket_0)\n",
    "\n",
    "# Calculando H (Z |0>)\n",
    "psi = np.dot(H, Z_ket_0)\n",
    "\n",
    "print(\"|ψ> =\", psi)"
   ]
  },
  {
   "cell_type": "markdown",
   "id": "4da3a9a6-b765-4eee-a443-6a182d417254",
   "metadata": {},
   "source": [
    "e) $|\\psi\\rangle = X \\cdot H \\cdot |1\\rangle\\$"
   ]
  },
  {
   "cell_type": "code",
   "execution_count": 5,
   "id": "55bd18e5-c580-4d9b-9586-0f12e752f1c1",
   "metadata": {},
   "outputs": [
    {
     "name": "stdout",
     "output_type": "stream",
     "text": [
      "|ψ> = [-0.70710678  0.70710678]\n"
     ]
    }
   ],
   "source": [
    "import numpy as np\n",
    "\n",
    "# Definindo o estado |1>\n",
    "ket_1 = np.array([0, 1])\n",
    "\n",
    "# Definindo a porta de Hadamard H\n",
    "H = (1 / np.sqrt(2)) * np.array([[1, 1],\n",
    "                                 [1, -1]])\n",
    "\n",
    "# Definindo a porta Pauli-X\n",
    "X = np.array([[0, 1],\n",
    "              [1, 0]])\n",
    "\n",
    "# Calculando H |1>\n",
    "H_ket_1 = np.dot(H, ket_1)\n",
    "\n",
    "# Calculando X (H |1>)\n",
    "psi = np.dot(X, H_ket_1)\n",
    "\n",
    "print(\"|ψ> =\", psi)"
   ]
  },
  {
   "cell_type": "markdown",
   "id": "0ac83d75-1765-42b9-885c-deab18a9a41e",
   "metadata": {},
   "source": [
    "f) $|\\psi\\rangle = Y \\cdot |0\\rangle \\langle 1 | 0 \\rangle\\$"
   ]
  },
  {
   "cell_type": "code",
   "execution_count": 7,
   "id": "0d03040b-6783-4a67-a2cf-7af98fb52bf9",
   "metadata": {},
   "outputs": [
    {
     "name": "stdout",
     "output_type": "stream",
     "text": [
      "|ψ> = [0.+0.j 0.+0.j]\n"
     ]
    }
   ],
   "source": [
    "import numpy as np\n",
    "\n",
    "# Definindo o estado |0>\n",
    "ket_0 = np.array([1, 0])\n",
    "\n",
    "# Definindo o operador de projeção |0><1|\n",
    "proj_0_1 = np.outer(ket_0, np.array([0, 1]))  # |0><1| = [[0, 1], [0, 0]]\n",
    "\n",
    "# Definindo a porta Pauli-Y\n",
    "Y = np.array([[0, -1j],\n",
    "              [1j, 0]])\n",
    "\n",
    "# Calculando |0><1| |0>\n",
    "intermediate_result = np.dot(proj_0_1, ket_0)\n",
    "\n",
    "# Calculando Y (|0><1| |0>)\n",
    "psi = np.dot(Y, intermediate_result)\n",
    "\n",
    "print(\"|ψ> =\", psi)"
   ]
  },
  {
   "cell_type": "markdown",
   "id": "a9627322-5b99-496d-85aa-af1fe352c260",
   "metadata": {},
   "source": [
    "g) $|\\psi\\rangle = (H \\otimes I) \\cdot (|0\\rangle \\otimes |1\\rangle)$"
   ]
  },
  {
   "cell_type": "code",
   "execution_count": 8,
   "id": "8422f263-d368-4d86-b4e0-cc7d83731cc9",
   "metadata": {},
   "outputs": [
    {
     "name": "stdout",
     "output_type": "stream",
     "text": [
      "|ψ> = [0.         0.70710678 0.         0.70710678]\n"
     ]
    }
   ],
   "source": [
    "import numpy as np\n",
    "\n",
    "# Definindo os vetores |0> e |1>\n",
    "ket_0 = np.array([1, 0])\n",
    "ket_1 = np.array([0, 1])\n",
    "\n",
    "# Definindo a porta de Hadamard H\n",
    "H = (1 / np.sqrt(2)) * np.array([[1, 1],\n",
    "                                 [1, -1]])\n",
    "\n",
    "# Definindo a porta identidade I\n",
    "I = np.eye(2)\n",
    "\n",
    "# Calculando o produto tensorial |0> ⊗ |1>\n",
    "ket_0_1 = np.kron(ket_0, ket_1)\n",
    "\n",
    "# Calculando o operador H ⊗ I\n",
    "H_tensor_I = np.kron(H, I)\n",
    "\n",
    "# Calculando o estado final |ψ> = (H ⊗ I) (|0> ⊗ |1>)\n",
    "psi = np.dot(H_tensor_I, ket_0_1)\n",
    "\n",
    "print(\"|ψ> =\", psi)"
   ]
  },
  {
   "cell_type": "markdown",
   "id": "ba0d095c-cfcd-4e6e-9a47-5b3b2ec36386",
   "metadata": {},
   "source": [
    "h) $|\\psi\\rangle = Z \\cdot H \\cdot Z \\cdot |1\\rangle$"
   ]
  },
  {
   "cell_type": "code",
   "execution_count": 9,
   "id": "7582af4b-54dd-4f9e-9a98-33c633c3298e",
   "metadata": {},
   "outputs": [
    {
     "name": "stdout",
     "output_type": "stream",
     "text": [
      "|ψ> = [-0.70710678 -0.70710678]\n"
     ]
    }
   ],
   "source": [
    "import numpy as np\n",
    "\n",
    "# Definindo o estado |1>\n",
    "ket_1 = np.array([0, 1])\n",
    "\n",
    "# Definindo a porta Pauli-Z\n",
    "Z = np.array([[1, 0],\n",
    "              [0, -1]])\n",
    "\n",
    "# Definindo a porta de Hadamard H\n",
    "H = (1 / np.sqrt(2)) * np.array([[1, 1],\n",
    "                                 [1, -1]])\n",
    "\n",
    "# Calculando Z |1>\n",
    "Z_ket_1 = np.dot(Z, ket_1)\n",
    "\n",
    "# Calculando H (Z |1>)\n",
    "H_Z_ket_1 = np.dot(H, Z_ket_1)\n",
    "\n",
    "# Calculando Z (H (Z |1>))\n",
    "psi = np.dot(Z, H_Z_ket_1)\n",
    "\n",
    "print(\"|ψ> =\", psi)"
   ]
  },
  {
   "cell_type": "markdown",
   "id": "7162a70f-b647-48f3-ba34-2b4290729034",
   "metadata": {},
   "source": [
    "i) $\\ket{\\psi} = \\bra{1} \\cdot H \\cdot |0\\rangle \\cdot |1\\rangle \\langle 0|$"
   ]
  },
  {
   "cell_type": "code",
   "execution_count": 10,
   "id": "499cb53c-8dba-4ed4-9f06-352881f3ca41",
   "metadata": {},
   "outputs": [
    {
     "name": "stdout",
     "output_type": "stream",
     "text": [
      "|ψ> = [[0.         0.        ]\n",
      " [0.70710678 0.        ]]\n"
     ]
    }
   ],
   "source": [
    "import numpy as np\n",
    "\n",
    "# Definindo os vetores |0> e |1>\n",
    "ket_0 = np.array([1, 0])\n",
    "ket_1 = np.array([0, 1])\n",
    "\n",
    "# Definindo a porta de Hadamard H\n",
    "H = (1 / np.sqrt(2)) * np.array([[1, 1],\n",
    "                                 [1, -1]])\n",
    "\n",
    "# Definindo o operador |1><0|\n",
    "proj_1_0 = np.outer(ket_1, ket_0)\n",
    "\n",
    "# Calculando H |0>\n",
    "H_ket_0 = np.dot(H, ket_0)\n",
    "\n",
    "# Calculando <1| H |0>\n",
    "bra_1_H_ket_0 = np.dot(ket_1.conj().T, H_ket_0)\n",
    "\n",
    "# Calculando |ψ> = <1| H |0> * |1><0|\n",
    "psi = bra_1_H_ket_0 * proj_1_0\n",
    "\n",
    "print(\"|ψ> =\", psi)"
   ]
  },
  {
   "cell_type": "markdown",
   "id": "9818a686-1318-4ed9-817b-ec800d8e1085",
   "metadata": {},
   "source": [
    "j) $|\\psi\\rangle = |1\\rangle \\langle 1| \\cdot Z \\cdot |0\\rangle$"
   ]
  },
  {
   "cell_type": "code",
   "execution_count": 11,
   "id": "04122cb8-c340-4586-9371-a71b96616497",
   "metadata": {},
   "outputs": [
    {
     "name": "stdout",
     "output_type": "stream",
     "text": [
      "|ψ> = [0 0]\n"
     ]
    }
   ],
   "source": [
    "import numpy as np\n",
    "\n",
    "# Definindo o estado |0>\n",
    "ket_0 = np.array([1, 0])\n",
    "\n",
    "# Definindo o projetor |1><1|\n",
    "proj_1_1 = np.array([[0, 0],\n",
    "                     [0, 1]])\n",
    "\n",
    "# Definindo a porta Pauli-Z\n",
    "Z = np.array([[1, 0],\n",
    "              [0, -1]])\n",
    "\n",
    "# Calculando Z |0>\n",
    "Z_ket_0 = np.dot(Z, ket_0)\n",
    "\n",
    "# Calculando |ψ> = |1><1| Z |0>\n",
    "psi = np.dot(proj_1_1, Z_ket_0)\n",
    "\n",
    "print(\"|ψ> =\", psi)"
   ]
  }
 ],
 "metadata": {
  "kernelspec": {
   "display_name": "Python 3 (ipykernel)",
   "language": "python",
   "name": "python3"
  },
  "language_info": {
   "codemirror_mode": {
    "name": "ipython",
    "version": 3
   },
   "file_extension": ".py",
   "mimetype": "text/x-python",
   "name": "python",
   "nbconvert_exporter": "python",
   "pygments_lexer": "ipython3",
   "version": "3.12.5"
  }
 },
 "nbformat": 4,
 "nbformat_minor": 5
}
